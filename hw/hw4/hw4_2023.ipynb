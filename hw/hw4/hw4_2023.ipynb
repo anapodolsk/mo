{
 "cells": [
  {
   "cell_type": "markdown",
   "metadata": {},
   "source": [
    "# HSE 2023: Введение в машинное обучение БИ 22/23\n",
    "\n",
    "## Домашнее задание № 4\n",
    "\n",
    "\n",
    "# Внимание!\n",
    "\n",
    "* Некоторые задания требуют значительного времени для выполнения, поэтому **лучше приступить к выполнению домашнего задания как можно раньше** \n",
    "\n",
    "* Решения обязательно должны содержать комментарии, все полученные результаты должны сопровождаться выводами (для этого удобно использовать ячейки markdown)\n"
   ]
  },
  {
   "cell_type": "code",
   "execution_count": null,
   "metadata": {},
   "outputs": [],
   "source": [
    "import matplotlib.pyplot as plt\n",
    "import numpy as np\n",
    "import pandas as pd\n",
    "\n",
    "plt.rcParams['figure.figsize'] = (11, 5)\n",
    "%matplotlib inline"
   ]
  },
  {
   "cell_type": "markdown",
   "metadata": {},
   "source": [
    "# Часть 1. Дерево решений"
   ]
  },
  {
   "cell_type": "markdown",
   "metadata": {},
   "source": [
    "### Задание 1  (1 балл)\n",
    "\n",
    "Загрузите датасет boston и разделите его на тренировочную ($75\\%$) и тестовую ($25\\%$) части. Обучите дерево глубины 1 и постройте следующий график:\n",
    "\n",
    "- Scatter plot для точек обучающей выборки (Выбранный моделью признак по оси x, целевая переменая по оси y)\n",
    "- Обученная модель"
   ]
  },
  {
   "cell_type": "code",
   "execution_count": null,
   "metadata": {},
   "outputs": [],
   "source": [
    "# YOUR CODE HERE"
   ]
  },
  {
   "cell_type": "markdown",
   "metadata": {},
   "source": [
    "### Задание 2  (1 балл)\n",
    "\n",
    "\n",
    "Продолжаем работать с датасетом boston\n",
    "\n",
    "- С помощью `GridSearchCV` найдите оптимальные значения [`max_depth`, `min_samples_leaf`] используя кроссвалидацию с 5 фолдами\n",
    "- Обучите модель с лучшими гиперпараметрами на всем тренировочном датасете\n",
    "- Укажите значение `MAE` на тесте и значения гиперпараметров"
   ]
  },
  {
   "cell_type": "code",
   "execution_count": null,
   "metadata": {},
   "outputs": [],
   "source": [
    "# YOUR CODE HERE"
   ]
  },
  {
   "cell_type": "markdown",
   "metadata": {},
   "source": [
    "``` your comments here```"
   ]
  },
  {
   "cell_type": "markdown",
   "metadata": {},
   "source": [
    "### Задание 3  (1 балл)\n",
    "\n",
    "Используйте `sklearn.ensemble.BaggingRegressor` для создания ансамбля \n",
    "\n",
    "- какого значение MAE на тесте удалось достичь\n",
    "- как можно объяснить изменение результата в сравнении с отдельным деревом"
   ]
  },
  {
   "cell_type": "code",
   "execution_count": null,
   "metadata": {},
   "outputs": [],
   "source": [
    "from sklearn.ensemble import BaggingRegressor\n",
    "\n",
    "# YOUR CODE HERE"
   ]
  },
  {
   "cell_type": "markdown",
   "metadata": {},
   "source": [
    "```your comments here```"
   ]
  },
  {
   "cell_type": "markdown",
   "metadata": {},
   "source": [
    "# Часть 2. Ансамбли"
   ]
  },
  {
   "cell_type": "markdown",
   "metadata": {},
   "source": [
    "В этой части будем решать задачу классификации на датасете [Thyroid Disease Data Set](https://archive.ics.uci.edu/ml/datasets/thyroid+disease)"
   ]
  },
  {
   "cell_type": "code",
   "execution_count": null,
   "metadata": {},
   "outputs": [],
   "source": [
    "from sklearn.preprocessing import LabelEncoder\n",
    "\n",
    "df = pd.read_csv('thyroid_disease.csv')\n",
    "\n",
    "le = LabelEncoder()\n",
    "y = le.fit_transform(df['Class'])\n",
    "X = df.drop('Class', axis=1)\n",
    "X.head(5)"
   ]
  },
  {
   "cell_type": "markdown",
   "metadata": {},
   "source": [
    "### Задание 1  (2 балла)\n",
    "\n",
    "Начнем с предобработки данных \n",
    "\n",
    "0. Удалите столбцы, которые не являются полезными (например, много пропущенных значений). Объясните свой выбор. \n",
    "1. Разделите данные на тренировочную и тестовую части\n",
    "2. Вы вероятно заметили, что имеются как категориальные так и численные признаки. С ними необходимо сделать следующее:\n",
    "    -  Категориальные: Заполнить пропущенные значения и применить one-hot-encoding\n",
    "    - Численные: Заполнить пропущенные значения\n",
    "\n",
    "    \n",
    "Используйте `ColumnTranformer` что бы задать общий \"transformer\" для всех столбцов в датасете. Он принимает на вход список кортежей\n",
    "\n",
    "```\n",
    "ColumnTransformer([\n",
    "    ('name1', transform1, column_names1),\n",
    "    ('name2', transform2, column_names2)\n",
    "])\n",
    "```\n",
    "\n",
    "Обратите внимание на аргумент `remainder='passthrough'`. [Здесь](https://scikit-learn.org/stable/modules/compose.html#column-transformer) вы можете найти примеры использования `ColumnTranformer`. \n",
    "    \n",
    "Поскольку мы хотим применить 2 преобразования к категориальному признаку, очень удобно объединить их в `Pipeline`:\n",
    "\n",
    "```\n",
    "double_tranform = make_pipeline(\n",
    "                        transform_1,\n",
    "                        transform_2\n",
    "                        )\n",
    "```\n",
    "\n",
    "P.S. Выберите ваш любимый способ заполнения пропущенных значений. \n",
    "\n",
    "*Подсказка* Категориальный столбец обычно имеет `dtype = 'object'`. Это может помочь получить списки категориальных и числовых столбцов.\n"
   ]
  },
  {
   "cell_type": "code",
   "execution_count": null,
   "metadata": {},
   "outputs": [],
   "source": [
    "from sklearn.pipeline import make_pipeline\n",
    "from sklearn.compose import ColumnTransformer\n",
    "from sklearn.preprocessing import OneHotEncoder\n",
    "from sklearn.impute import SimpleImputer\n",
    "\n",
    "\n",
    "# YOUR CODE HERE\n",
    "# define column_transformer \n",
    "\n",
    "# Transform the data\n",
    "X_train = column_transformer.fit_transform(X_train)\n",
    "X_test = column_transformer.transform(X_test)"
   ]
  },
  {
   "cell_type": "markdown",
   "metadata": {},
   "source": [
    "### Задание 2  (1.5 балл)\n",
    "\n",
    "Обучите и сравните 5 разных моделей из sklearn: Gradient Boosting, Random Forest, Decision Tree, SVM, Logitics Regression\n",
    "    \n",
    "* Выберите одну метрику классификации и обоснуйте свой выбор.\n",
    "* Сравните модели используя данную метрику на кроссвалидации. Не забудьте выбрать верную стратегию кроссвалидации с учетом баланса классов. (подробнее о CV стратегиях [тут](https://scikit-learn.org/stable/modules/cross_validation.html#stratified-k-fold))\n",
    "* Какая модель оказалась лучшей. Какие модели переобучались или недообучались?"
   ]
  },
  {
   "cell_type": "code",
   "execution_count": null,
   "metadata": {},
   "outputs": [],
   "source": [
    "# YOUR CODE HERE"
   ]
  },
  {
   "cell_type": "markdown",
   "metadata": {},
   "source": [
    "```your comments here```"
   ]
  },
  {
   "cell_type": "markdown",
   "metadata": {},
   "source": [
    "### Задание 3  (1 балл)\n",
    "\n",
    "\n",
    "\n",
    "Вам нужно обучить одну из трех популярных реализаций бустинга (xgboost, lightgbm, catboost). Подберите гиперпараметры (количество деревьев, скорость обучения, глубина) на кроссвалидации и сравните с методами из предыдущей задачи.\n",
    "\n",
    "\n",
    "Чтобы получить реализацию, которую вы должны использовать, запустите ячейку ниже и введите свое имя (например, если вы введете Андрей, вы увидите, что пользователь с таким именем должен реализовать xgboost)."
   ]
  },
  {
   "cell_type": "code",
   "execution_count": null,
   "metadata": {},
   "outputs": [],
   "source": [
    "def assign_method():\n",
    "    name = input()\n",
    "    methods = ['xgboost', 'lightgbm', 'catboost']\n",
    "    idx = sum([ord(x) for x in list(name)]) % 3\n",
    "    print('Реализуйте', methods[idx])\n",
    "    \n",
    "assign_method()"
   ]
  },
  {
   "cell_type": "code",
   "execution_count": null,
   "metadata": {},
   "outputs": [],
   "source": [
    "# YOUR CODE HERE"
   ]
  },
  {
   "cell_type": "markdown",
   "metadata": {},
   "source": [
    "```your comments here```"
   ]
  },
  {
   "cell_type": "markdown",
   "metadata": {},
   "source": [
    "### Задание 4  (2.5 балла)\n",
    "\n",
    "Обучим еще несколько ансамблей:\n",
    "\n",
    "* Бэггинг над деревьями решений\n",
    "* Бэггинг над градиентным бустингом (с большим колличеством деревьев, >100)\n",
    "* [VotingСlassifier](https://scikit-learn.org/stable/modules/generated/sklearn.ensemble.VotingClassifier.html#sklearn.ensemble.VotingClassifier) \n",
    "* [StackingClassifier](https://scikit-learn.org/stable/modules/generated/sklearn.ensemble.StackingClassifier.html#sklearn.ensemble.StackingClassifier) c LogisticRegression в качестве финальной модели\n",
    "* [StackingClassifier](https://scikit-learn.org/stable/modules/generated/sklearn.ensemble.StackingClassifier.html#sklearn.ensemble.StackingClassifier) c GradeintBoosting в качестве финальной модели\n",
    "\n",
    "Если в задании не указано иное, не стесняйтесь настраивать/выбирать гиперпараметры и базовые модели.\n",
    "\n",
    "Ответьте на вопросы:\n",
    "* Какая модель показала лучший скор?\n",
    "* Снижает ли бэггинг переобучение в случае градиентного бустинка с большим колличством деревьев?\n",
    "* В чем разница между VotingСlassifier и StackingClassifier?\n",
    "\n"
   ]
  },
  {
   "cell_type": "code",
   "execution_count": null,
   "metadata": {},
   "outputs": [],
   "source": [
    "# YOUR CODE HERE"
   ]
  },
  {
   "cell_type": "markdown",
   "metadata": {},
   "source": [
    "```your comments here```"
   ]
  },
  {
   "cell_type": "markdown",
   "metadata": {},
   "source": [
    "Укажите скор лучшей модели"
   ]
  },
  {
   "cell_type": "code",
   "execution_count": null,
   "metadata": {},
   "outputs": [],
   "source": [
    "# YOUR CODE HERE"
   ]
  }
 ],
 "metadata": {
  "kernelspec": {
   "display_name": "Python 3 (ipykernel)",
   "language": "python",
   "name": "python3"
  },
  "language_info": {
   "codemirror_mode": {
    "name": "ipython",
    "version": 3
   },
   "file_extension": ".py",
   "mimetype": "text/x-python",
   "name": "python",
   "nbconvert_exporter": "python",
   "pygments_lexer": "ipython3",
   "version": "3.9.14"
  }
 },
 "nbformat": 4,
 "nbformat_minor": 4
}
