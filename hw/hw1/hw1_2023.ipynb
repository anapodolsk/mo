{
  "cells": [
    {
      "cell_type": "markdown",
      "metadata": {
        "id": "IrmH_uV0u_i0"
      },
      "source": [
        "# HSE 2023: Введение в машинное обучение БИ 22/23\n",
        "\n",
        "## ДЗ 1"
      ]
    },
    {
      "cell_type": "markdown",
      "metadata": {
        "id": "WcoDnmABu_i1"
      },
      "source": [
        "### Внимание!\n",
        "* Если в задании просят объяснить что-либо, то это значит, что требуется **письменный ответ**, который **является** частью задания и оценивается\n",
        "* **Не** загружайте датасет (titanic.csv) в тестирующую систему (он у нас и так есть)\n",
        "* Мы **только** принимаем **ipynb** ноутбуки. Если вы используете Google Colab, то вам необходимо скачать ноутбук перед сдачей ДЗ\n",
        "* **Не** используйте циклы python вместо векторных операций NumPy над векторами NumPy - это сильно влияет на производительность (можете почитать почему https://blog.paperspace.com/numpy-optimization-vectorization-and-broadcasting/), наказывается -0.25 за **каждое** задание. Циклы разрешены только в части 1 (Задания 1 - 4). \n",
        "* Некоторые задания содержат тесты. Они тестируют ваше решение только для простых случаев. Таким образом, прохождение теста, **не** гарантирует полной оценки за задание. "
      ]
    },
    {
      "cell_type": "code",
      "execution_count": null,
      "metadata": {
        "id": "ObtgG7t_u_i1"
      },
      "outputs": [],
      "source": [
        "%matplotlib inline\n",
        "import numpy as np\n",
        "import pandas as pd\n",
        "import matplotlib.pyplot as plt\n",
        "import seaborn as sns"
      ]
    },
    {
      "cell_type": "markdown",
      "metadata": {
        "id": "idyGotcwu_i1"
      },
      "source": [
        "# 1. Python (2 балла) "
      ]
    },
    {
      "cell_type": "markdown",
      "metadata": {
        "id": "dxBU_eBUu_i2"
      },
      "source": [
        "**Задание 1** (0.5 балла)<br/> \n",
        "Даны ненулевые числа `a`,  `r` и `N`. Найдите произведение первых `N` членов геометрической прогрессии с первым членом `a` и множителем `r` без использования формулы для произведения первых `N` членов"
      ]
    },
    {
      "cell_type": "code",
      "execution_count": null,
      "metadata": {
        "id": "TQbn2PgKu_i2"
      },
      "outputs": [],
      "source": [
        "def find_product(a,r,N):\n",
        "    ## Your code here\n",
        "    return arr_product\n",
        "\n",
        "a = 2\n",
        "r = 3\n",
        "N = 3\n",
        "print(find_product(a,r,N))"
      ]
    },
    {
      "cell_type": "markdown",
      "metadata": {
        "id": "gspEVSEMu_i2"
      },
      "source": [
        "**Задание 2** (0.5 балла) <br/> \n",
        "Дано целое число `N`. Проверьте является ли оно палиндромом. Это значит, что число читается одинаково слева направо и справа налево. "
      ]
    },
    {
      "cell_type": "code",
      "execution_count": null,
      "metadata": {
        "id": "eEcqsleju_i2"
      },
      "outputs": [],
      "source": [
        "def check_palindrome(N):\n",
        "    ## Your code here\n",
        "    return check_palindrome\n",
        "\n",
        "for N in [3, 81, 111, 113, 810, 2022, 4774, 51315, 611816]:\n",
        "    print(N, check_palindrome(N))"
      ]
    },
    {
      "cell_type": "markdown",
      "metadata": {
        "id": "WetE-7MDu_i2"
      },
      "source": [
        "**Задание 3** (0.5 балла) <br/> \n",
        "Найдите первые `N` палиндромов для чисел, начинающихся от 1000 (вы можете использовать функцию из предыдущего задания)."
      ]
    },
    {
      "cell_type": "code",
      "execution_count": null,
      "metadata": {
        "id": "13myo0gsu_i2"
      },
      "outputs": [],
      "source": [
        "def find_palindromes(N):\n",
        "    ## Your code here\n",
        "    return palindromes\n",
        "\n",
        "print(find_palindromes(5))\n",
        "print(find_palindromes(10))\n",
        "print(find_palindromes(20))"
      ]
    },
    {
      "cell_type": "markdown",
      "metadata": {
        "id": "QdDoCHCru_i2"
      },
      "source": [
        "**Задание 4** (0.5 балла) <br/> \n",
        "Даны числа: `a`, `b`, `c`. Без использования функций `min`, `max` и других, найдите минимальное."
      ]
    },
    {
      "cell_type": "code",
      "execution_count": null,
      "metadata": {
        "id": "5iVQkAGZu_i2"
      },
      "outputs": [],
      "source": [
        "from random import randint\n",
        "def find_min(a, b, c):\n",
        "    ## Your code here\n",
        "    return min_\n",
        "\n",
        "for i in range(10):\n",
        "    \n",
        "    a = randint(-100, 100)\n",
        "    b = randint(-100, 100)\n",
        "    c = randint(-100, 100)\n",
        "    \n",
        "    print(a, b, c, '\\tMinimum:', find_min(a, b, c))"
      ]
    },
    {
      "cell_type": "markdown",
      "metadata": {
        "id": "yIksU4iVu_i2"
      },
      "source": [
        "# 2. Numpy (4 балла)"
      ]
    },
    {
      "cell_type": "markdown",
      "metadata": {
        "id": "VQw-52COu_i3"
      },
      "source": [
        "**Задание 1** (0.5 балла) <br/>\n",
        "Создайте случайный numpy вектор (`np.random.rand()`) длины 17 и с суммой элементов равной 6."
      ]
    },
    {
      "cell_type": "code",
      "execution_count": null,
      "metadata": {
        "id": "gjdtC0VCu_i3"
      },
      "outputs": [],
      "source": [
        "my_array = ## Your code here\n",
        "print(f'Length: {len(my_array)}')\n",
        "print(f'Sum of elements: {np.sum(my_array)}')"
      ]
    },
    {
      "cell_type": "markdown",
      "metadata": {
        "id": "5Lb84IeOu_i3"
      },
      "source": [
        "**Задание 2** (0.5 балла) <br/>\n",
        "Создайте два случайных вектора $a$ и $b$ одинаковой длины. \n",
        "\n",
        "Расчитайте следующие расстояния между векторами **без использования специальных функций. Вы можете использовать только базовые операции numpy  (`np.linalg.*` и другие высокоуровневые методы и пакеты запрещены).**:\n",
        "\n",
        "* Manhattan\n",
        "$$ d(a, b) = \\sum_i |a_i - b_i| $$\n",
        "* Euclidean\n",
        "$$ d(a, b) = \\sqrt{\\sum_i (a_i - b_i)^2} $$\n",
        "* Chebyshev\n",
        "$$ d(a, b) = \\underset{i}{max} |a_i - b_i| $$\n",
        "* Cosine\n",
        "$$ d(a, b) = 1 - \\frac{a^\\top b}{||a||_2\\cdot||b||_2} $$\n"
      ]
    },
    {
      "cell_type": "code",
      "execution_count": null,
      "metadata": {
        "id": "3i1qjTf_u_i3"
      },
      "outputs": [],
      "source": [
        "def calculate_manhattan(a, b):    \n",
        "    ## Your code here\n",
        "    return distance\n",
        "\n",
        "def calculate_euclidean(a, b):    \n",
        "    ## Your code here\n",
        "    return distance\n",
        "\n",
        "def calculate_chebyshev(a, b):    \n",
        "    ## Your code here\n",
        "    return distance\n",
        "\n",
        "def calculate_cosine(a, b):    \n",
        "    ## Your code here\n",
        "    return distance"
      ]
    },
    {
      "cell_type": "code",
      "execution_count": null,
      "metadata": {
        "id": "kyU2jHw-u_i3"
      },
      "outputs": [],
      "source": [
        "a = ## Your code here\n",
        "b = ## Your code here\n",
        "print(f'Manhattan distance: {calculate_manhattan(a, b)}')\n",
        "print(f'Euclidean distance: {calculate_euclidean(a, b)}')\n",
        "print(f'Chebyshev distance: {calculate_chebyshev(a, b)}')\n",
        "print(f'Cosine distance: {calculate_cosine(a, b)}')"
      ]
    },
    {
      "cell_type": "markdown",
      "metadata": {
        "id": "pKx7nOIDu_i3"
      },
      "source": [
        "**Задание 3** (0.5 балла) <br/>\n",
        "Создайте случайный вектор (`np.random.randint()`) длины 76. Трансформируйте вектор так, чтобы после преобразования он имел следующие свойства \n",
        "* Максимальный элемент -1\n",
        "* Минимальный элемент -4\n",
        "* Оставшиеся значения в интервале (-4; -1) без изменения относительного порядка ([1, 2, 4] -> [0.1, 0.2, 0.4] - порядок сохранен)"
      ]
    },
    {
      "cell_type": "code",
      "execution_count": null,
      "metadata": {
        "id": "2LCEp7Yru_i3"
      },
      "outputs": [],
      "source": [
        "def transform(array):\n",
        "    ## Your code here\n",
        "    return transformed_array"
      ]
    },
    {
      "cell_type": "code",
      "execution_count": null,
      "metadata": {
        "id": "VeERsV55u_i3"
      },
      "outputs": [],
      "source": [
        "my_array = ## Your code here\n",
        "my_array = transform(my_array)\n",
        "print(f'Min: {np.min(my_array)}')\n",
        "print(f'Max: {np.max(my_array)}')\n",
        "print('Array:')\n",
        "print(my_array)"
      ]
    },
    {
      "cell_type": "markdown",
      "metadata": {
        "id": "ikj1TzBou_i4"
      },
      "source": [
        "**Задание 4** (0.5 балла) <br/>\n",
        "Создайте матрицу размерности $8 \\times 5$ с целыми числами из промежутка [-7, 43]. Выведите колонку, которая содержит максимальный элемент матрицы."
      ]
    },
    {
      "cell_type": "code",
      "execution_count": null,
      "metadata": {
        "id": "L9gUC6muu_i4"
      },
      "outputs": [],
      "source": [
        "my_array = ## Your code here\n",
        "selected_column = ## Your code here\n",
        "print('Shape: ', my_array.shape)\n",
        "print('Array:')\n",
        "print(my_array)\n",
        "print(f'Selected column: {selected_column}')"
      ]
    },
    {
      "cell_type": "markdown",
      "metadata": {
        "id": "ELUgWbuCu_i4"
      },
      "source": [
        "**Задание 5** (0.5 балла) <br/>\n",
        "\n",
        "Замените все пропущенные значения на медиану."
      ]
    },
    {
      "cell_type": "code",
      "execution_count": null,
      "metadata": {
        "id": "HdCSNq6su_i4"
      },
      "outputs": [],
      "source": [
        "arr = np.random.rand(10)\n",
        "idx = np.random.randint(0, 10, 4)\n",
        "arr[idx] = np.nan\n",
        "\n",
        "print('Array:')\n",
        "print(arr)"
      ]
    },
    {
      "cell_type": "code",
      "execution_count": null,
      "metadata": {
        "id": "1x0lLJIou_i4"
      },
      "outputs": [],
      "source": [
        "def replace_missing(arr):\n",
        "    ## Your code here\n",
        "    return array_without_missing"
      ]
    },
    {
      "cell_type": "code",
      "execution_count": null,
      "metadata": {
        "id": "YNM2wugsu_i4"
      },
      "outputs": [],
      "source": [
        "arr = replace_missing(arr)\n",
        "print('Array with no missing values:')\n",
        "print(arr)"
      ]
    },
    {
      "cell_type": "markdown",
      "metadata": {
        "id": "VAyCrq0pu_i4"
      },
      "source": [
        "**Задание 6** (0.5 балла) <br/>\n",
        "Создайте функцию, которая принимает на вход картинку ```X``` (3D вектор размерности (n, m, 3)) и возвращает среднее по всем 3 каналам (вектор размерности 3)."
      ]
    },
    {
      "cell_type": "code",
      "execution_count": null,
      "metadata": {
        "id": "reopsWZhu_i4"
      },
      "outputs": [],
      "source": [
        "def mean_channel(X):\n",
        "    # Your code here\n",
        "    return mean_vector"
      ]
    },
    {
      "cell_type": "code",
      "execution_count": null,
      "metadata": {
        "id": "0pk_6UCIu_i4"
      },
      "outputs": [],
      "source": [
        "n = 19\n",
        "m = 23\n",
        "X =  np.random.randint(-11, 8, size=(n, m, 3))\n",
        "mean_channel(f'Vector of means: {X}')"
      ]
    },
    {
      "cell_type": "markdown",
      "metadata": {
        "id": "zNVfuaw8u_i4"
      },
      "source": [
        "**Задание 7** (1 балл) <br/>\n",
        "Создайте функцию, которая принимает 3D вектор ```X``` на вход и возвращает все уникальные слои по 1 оси.\n",
        "\n",
        "Пример входных данных:\n",
        "\n",
        "     ([[[1, 2, 3],\n",
        "        [1, 2, 3],\n",
        "        [1, 2, 3]],\n",
        "\n",
        "       [[4, 5, 6],\n",
        "        [4, 5, 7]\n",
        "        [4, 5, 6]],\n",
        "\n",
        "       [[7, 8, 9],\n",
        "        [7, 8, 9]\n",
        "        [7, 8, 9]]])\n",
        "        \n",
        "Пример выходных:\n",
        "\n",
        "     ([[[1, 2, 3],\n",
        "        [1, 2, 3]],\n",
        "\n",
        "       [[4, 5, 6],\n",
        "        [4, 5, 7]],\n",
        "\n",
        "       [[7, 8, 9],\n",
        "        [7, 8, 9]]])"
      ]
    },
    {
      "cell_type": "code",
      "execution_count": null,
      "metadata": {
        "id": "WK2AxWP9u_i4"
      },
      "outputs": [],
      "source": [
        "def get_unique_columns(X):\n",
        "    ## Your code here\n",
        "    return X_unique"
      ]
    },
    {
      "cell_type": "code",
      "execution_count": null,
      "metadata": {
        "id": "n2OWA2e2u_i4"
      },
      "outputs": [],
      "source": [
        "X =  np.random.randint(4, 6, size=(n, 3, 3))\n",
        "print('Matrix:')\n",
        "print(X)\n",
        "print('Unique rows:')\n",
        "get_unique_rows(X)"
      ]
    },
    {
      "cell_type": "markdown",
      "metadata": {
        "id": "SV5MpkyRu_i4"
      },
      "source": [
        "# 3. Pandas & Visualization (4 балла)\n"
      ]
    },
    {
      "cell_type": "markdown",
      "metadata": {
        "id": "etPZTWr3u_i4"
      },
      "source": [
        "Вам предстоит работа с датасетом *Titanic*, который содержит информацию о пассажирах Титаника:\n",
        "- **Survived** - 1 - выжил, 0 - умер (0); **Целевая переменная**\n",
        "- **pclass** - класс пассажира;\n",
        "- **sex** - пол пассажира\n",
        "- **Age** - возраст пассажира в годах\n",
        "- **sibsp**    - есть ли на борту братья и сестры   \n",
        "- **parch**    - есть ли на борту родители или дети\n",
        "- **ticket** - номер билета    \n",
        "- **fare** - цена билета    \n",
        "- **cabin** - номер каюты\n",
        "- **embarked** - порт посадки; C = Cherbourg, Q = Queenstown, S = Southampton\n",
        "\n",
        "**Заметка** Для всех визуализаций используйте  matplotlib или seaborn, но НЕ plotly! Графики Plotly иногда исчезают после сохранения. В этом случае задание оценено не будет.\n",
        "\n",
        "**Заметка** все ваши ответы должны быть поддержаны необходимым кодом, вычислениями, визуализацией и объяснениями. Ответы без кода и объяснений оцениваться не будут.\n",
        "\n",
        "**Задание 0** (0 баллов) \\\n",
        "Загрузите датасет и выведите первые 5 строк"
      ]
    },
    {
      "cell_type": "code",
      "execution_count": null,
      "metadata": {
        "id": "WjVXWqhZu_i5"
      },
      "outputs": [],
      "source": [
        "dataset =  ## Your code here\n",
        "## Your code here"
      ]
    },
    {
      "cell_type": "markdown",
      "metadata": {
        "id": "u1DLMGZau_i5"
      },
      "source": [
        "**Задание 1** (1 балл) <br/>\n",
        "Ответьте на следующие вопросы:\n",
        "    \n",
        "    * Есть ли в датасете пропущенные значения? В каких колонках?\n",
        "    * Какой процент пассажирова выжил? Сбалансированы ли классы пассажиров?\n",
        "    * Кого больше, мужчин или женщин?\n",
        "    * Какой наименее популярный порт посадки?\n",
        "    * Сколько классов пассажиров (pclass) было на титанике?\n",
        "    * Какова средняя цена билета? И средняя цена в зависимости от класса пассажира?\n",
        "Пожалуйста, указывайте не только ответ, но и код, с помощью которого вы его получили."
      ]
    },
    {
      "cell_type": "code",
      "execution_count": null,
      "metadata": {
        "id": "c_xdEapMu_i5"
      },
      "outputs": [],
      "source": [
        "## Your code here"
      ]
    },
    {
      "cell_type": "markdown",
      "metadata": {
        "id": "PJoR9Secu_i5"
      },
      "source": [
        "**Задание 2** (0.5 балла) <br/>\n",
        "Визуализируйте распределение возраста (вы можете использовать гистограммы, к примеру). \n",
        "\n",
        "    * Какие максимальный и минимальный возраста пассажиров? Визуализируйте их на графике\n",
        "    * Какой среддний возраст? Также по мужчинам и женщинам в отдельности? Визуализируйте на графике\n",
        "    * Сделайте выводы по графику, который у вас получился"
      ]
    },
    {
      "cell_type": "code",
      "execution_count": null,
      "metadata": {
        "id": "aEjlHQQlu_i5"
      },
      "outputs": [],
      "source": [
        "## Your code here"
      ]
    },
    {
      "cell_type": "markdown",
      "metadata": {
        "id": "ZpS0m8zXu_i5"
      },
      "source": [
        "**Задание 3** (1 балла) <br/>\n",
        "Найдите все титулы пассажиров (например, *Capt., Mr.,Mme.*), которые записаны в колонке Name, и ответьте на следующие вопросы:\n",
        "\n",
        "    * Сколько всего уникальных титулов?\n",
        "    * Сколько всего пассажиров по каждому титулу??\n",
        "    * Какой наиболее популярный титул у мужчин? У женщин?\n",
        "    \n",
        "**Подсказка** Вы можете извлечь титул из имени, так как это слово, которое содержит точку."
      ]
    },
    {
      "cell_type": "code",
      "execution_count": null,
      "metadata": {
        "id": "RS_PH70Xu_i5"
      },
      "outputs": [],
      "source": [
        "## Your code here"
      ]
    },
    {
      "cell_type": "markdown",
      "metadata": {
        "id": "Y3JTpdobu_i5"
      },
      "source": [
        "**Задание 4** (0.5 балла) <br/>\n",
        "Присутствует ли корреляция между *pclass* и *ticket price*? Посчитайте среднюю цену для каждого порта и визуализируйте распределение цен по каждому порту. Сделайие выводы по графику\n",
        "\n",
        "Подсказка: вы можете сделать разные типы графиков, такие как box, violine, pair, histogram. Обоснуйте выбор графиков и сделайте значимые выводы\n",
        "\n"
      ]
    },
    {
      "cell_type": "code",
      "execution_count": null,
      "metadata": {
        "id": "xatx39xOu_i5"
      },
      "outputs": [],
      "source": [
        "## You code here"
      ]
    },
    {
      "cell_type": "markdown",
      "metadata": {
        "id": "t_Noc9_5u_i5"
      },
      "source": [
        "**Задание 5** (0.5 балла) <br/>\n",
        "Такие же вопросы, как и в задании 4, но про корреляцию между *embarked* и *ticket priсe*."
      ]
    },
    {
      "cell_type": "code",
      "execution_count": null,
      "metadata": {
        "id": "-_x-Hemqu_i5"
      },
      "outputs": [],
      "source": [
        "## You code here"
      ]
    },
    {
      "cell_type": "markdown",
      "metadata": {
        "id": "_BOVWuUzu_i5"
      },
      "source": [
        "**Задание 6** (0.5 балла) <br/>\n",
        "Визуализируйте распределение возарста для выживших и погибших пассажиров по отдельности, посчитайте средний возраст по выжившим и погибшим. Отличаются ли они? Постройте визуализацию для мужчин и женщин по отдельности. Сделайте выводы о том, что вы видите на графиках"
      ]
    },
    {
      "cell_type": "code",
      "execution_count": null,
      "metadata": {
        "id": "3SWpSpR3u_i5"
      },
      "outputs": [],
      "source": [
        "## You code here"
      ]
    }
  ],
  "metadata": {
    "kernelspec": {
      "display_name": "Python 3 (ipykernel)",
      "language": "python",
      "name": "python3"
    },
    "language_info": {
      "codemirror_mode": {
        "name": "ipython",
        "version": 3
      },
      "file_extension": ".py",
      "mimetype": "text/x-python",
      "name": "python",
      "nbconvert_exporter": "python",
      "pygments_lexer": "ipython3",
      "version": "3.9.7"
    },
    "colab": {
      "provenance": []
    }
  },
  "nbformat": 4,
  "nbformat_minor": 0
}