{
  "cells": [
    {
      "cell_type": "markdown",
      "id": "nearby-anderson",
      "metadata": {
        "id": "nearby-anderson"
      },
      "source": [
        "## Логистическая регрессия и SVM\n",
        "\n",
        "#### План:\n",
        "1. Логистическая регрессия\n",
        "2. SVM.\n",
        "3. Ирисы Фишера. Свойства логистической регрессии и SVM\n",
        "4. Логистическая регрессия и SVM на менее приятных данных.\n",
        "5. Метрики классификации\n",
        "6. ROC-кривая. \n",
        "7. Бонус: вывод логистической регрессии через правдоподобие\n",
        "---"
      ]
    },
    {
      "cell_type": "markdown",
      "id": "34c359b2",
      "metadata": {
        "id": "34c359b2"
      },
      "source": [
        "<b>Вступление:</b>\n",
        "Сегодня мы познакомимся с логистической регрессией узнаем её особенности во время обучения, сравним с SVM и обобщим задачу оптимизации внутри SVM  с целью замены ядровой функции. Так же поговорим про метрики классификации и обсудим как их выбирать \n"
      ]
    },
    {
      "cell_type": "markdown",
      "id": "intellectual-territory",
      "metadata": {
        "id": "intellectual-territory"
      },
      "source": [
        "### Логистическая регрессия"
      ]
    },
    {
      "cell_type": "markdown",
      "id": "russian-closing",
      "metadata": {
        "id": "russian-closing"
      },
      "source": [
        "Напомним, что мы по-прежнему решаем задачу бинарной классификации, в которой целевая переменная $y$ принимает два значения: -1 и 1. На прошлом семинаре мы обсудили, что эту задачу можно решить при помощи линейного классификатора \n",
        "\n",
        "$$\n",
        "f(x_i, w) = \\mathrm{sign}\\left(\\langle x_i, w \\rangle\\right).\n",
        "$$\n",
        "\n",
        "Функция потерь для такой задачи – это сумма индикаторов того, что предсказание сделано неверно: \n",
        "\n",
        "$$Q(X, w) = \\frac{1}{\\ell}\\sum_{i = 1}^{\\ell}[y_i \\ne \\mathrm{sign}\\left(\\langle x_i, w \\rangle\\right)].$$\n",
        "\n",
        "На лекциях мы обсуждали, что эту идею можно удобно записать через функцию отступа:\n",
        "\n",
        "$$\n",
        "Q(X, w) = \\frac{1}{\\ell}\\sum_{i = 1}^{\\ell}[y_i \\langle x_i, w \\rangle < 0].\n",
        "$$\n",
        "\n",
        "Такую функцию проблематично дифференцировать по $w$, потому что даже в местах, где градиент существует, он равен нулю. Вместо этого будем минимизировать некоторую функцию $\\tilde{Q}(X, w)$, являющуюся верхней оценкой для $Q(X, w)$, и надеяться, что минимизация $\\tilde{Q}(X, w)$ позволит достаточно хорошо минимизировать и $Q(X, w)$.\n",
        "\n",
        "Логистическая регрессия предлагает использовать логистическую функцию потерь:\n",
        "\n",
        "$$\n",
        "\\tilde{Q}(X, w) = \\frac{1}{\\ell}\\sum_{i = 1}^{\\ell}\\log(1 + e^{-y_i \\langle x_i, w \\rangle}) \\rightarrow \\min_w.\n",
        "$$"
      ]
    },
    {
      "cell_type": "code",
      "execution_count": null,
      "id": "curious-exemption",
      "metadata": {
        "id": "curious-exemption"
      },
      "outputs": [],
      "source": [
        "import matplotlib.pyplot as plt\n",
        "import numpy as np\n",
        "import pandas as pd\n",
        "from sklearn.metrics import classification_report, confusion_matrix"
      ]
    },
    {
      "cell_type": "code",
      "execution_count": null,
      "id": "catholic-tunnel",
      "metadata": {
        "id": "catholic-tunnel",
        "outputId": "44c782c0-a59c-4c03-8199-144320a3a34f",
        "colab": {
          "base_uri": "https://localhost:8080/",
          "height": 522
        }
      },
      "outputs": [
        {
          "output_type": "display_data",
          "data": {
            "text/plain": [
              "<Figure size 800x600 with 1 Axes>"
            ],
            "image/png": "[encoded data removed]"
          },
          "metadata": {}
        }
      ],
      "source": [
        "x = np.concatenate((np.linspace(-3, 0, 500), np.linspace(0, 3, 500)))\n",
        "np.random.seed(123)\n",
        "y = np.ones(1000)\n",
        "w = np.ones(1000)\n",
        "M = y * x * w\n",
        "\n",
        "plt.figure(figsize = (8, 6))\n",
        "plt.plot(x * w, x < 0, label = \"$\\tilde{Q}(X, w)$, zero-one loss\")\n",
        "plt.plot(M, np.log2(1 + np.exp(-M)), label = \"$Q'(X, w)$, logistic loss\")\n",
        "plt.grid()\n",
        "plt.legend();"
      ]
    },
    {
      "cell_type": "markdown",
      "id": "positive-memorabilia",
      "metadata": {
        "id": "positive-memorabilia"
      },
      "source": [
        "Для получения классической задачи логистической регрессии остаётся сделать один шаг и немного изменить постановку задачи. Предположим, что мы хотим решать задачу **мягкой** классификации, то есть предсказывать не метку класса, а вероятность того, что наблюдение принадлежит к классу. Понятно, что мы всегда можем перейти от мягкой классификации к жёсткой, выбрав порог принадлежности к положительному классу. "
      ]
    },
    {
      "cell_type": "markdown",
      "id": "useful-springer",
      "metadata": {
        "id": "useful-springer"
      },
      "source": [
        "**Задание 1.** Поясните, почему для решения задачи мягкой классификации классификатор $f(x_i, w) = \\left(\\langle x_i, w \\rangle\\right)$ – не лучший выбор. "
      ]
    },
    {
      "cell_type": "markdown",
      "id": "contained-preparation",
      "metadata": {
        "id": "contained-preparation"
      },
      "source": [
        "**Ответ:**\n",
        "\n",
        "Полученное скалярное произведение необязательно будет лежать в отрезке $[0, 1]$.\n",
        "\n",
        "Мы можем решить названную проблему, подставив $\\left(\\langle x_i, w \\rangle\\right)$ в некоторую функцию, областью значений которой является промежуток от 0 до 1. В логистической регрессии такой функцией выступает **сигмоида**:\n",
        "\n",
        "$$\n",
        "\\sigma(x) = \\dfrac{e^x}{1 + e^x} = \\dfrac{1}{1 + e^{-x}}.\n",
        "$$"
      ]
    },
    {
      "cell_type": "markdown",
      "id": "romantic-yield",
      "metadata": {
        "id": "romantic-yield"
      },
      "source": [
        "**Задание 2.** Сигмоида обаладет замечательнеым свойством, которое значительно упрощает вычисление градиентов при градиентном спуске:\n",
        "\n",
        "$$\n",
        "\\sigma(x)'_x = \\sigma(x)(1 - \\sigma(x)). \n",
        "$$\n",
        "\n",
        "Покажите, что это действительно так.\n",
        "\n",
        "**Решение:**\n",
        "\n",
        "$$\n",
        "\\sigma(x)' = \\frac{e^x(1 + e^x) - e^{2x}}{(1 + e^x)^2} = \\frac{e^x}{1 + e^x}\\frac{1}{1 + e^x} = \\sigma(x)(1-\\sigma(x)).\n",
        "$$"
      ]
    },
    {
      "cell_type": "markdown",
      "id": "reverse-transsexual",
      "metadata": {
        "id": "reverse-transsexual"
      },
      "source": [
        "Путём хитрых математических преобразований можно показать, что при использовании сигмоиды (= при решении задачи мягкой классификации) $\\tilde{Q}(X, w)$ можно записать в следующем виде:\n",
        "\n",
        "$$\n",
        "\\tilde{Q}(X, w) = -\\frac{1}{\\ell} \\sum_{i=1}^{\\ell} [y_i = 1]\\log\\sigma(\\langle x_i, w \\rangle) + [y_i = -1]\\log(1-\\sigma(\\langle x_i, w \\rangle)\n",
        "$$\n",
        "\n",
        "Эта функция называется log-loss или кросс-энтропией между истинной целевой переменной и предсказанными вероятностями.\n",
        "\n",
        "**А почему? А потому:**\n",
        "\n",
        "$$\n",
        "\\tilde{Q}(X, w) = -\\frac{1}{\\ell} \\sum_{i=1}^{\\ell} [y_i = 1]\\log\\sigma(\\langle x_i, w \\rangle) + [y_i = -1]\\log(1-\\sigma(\\langle x_i, w \\rangle) =\\\\\n",
        "$$\n",
        "$$\n",
        "=-\\frac{1}{\\ell} \\sum_{i=1}^{\\ell} [y_i = 1]\\log\\left(\\frac{1}{1 + e^{-\\langle x_i, w\\rangle}}\\right) + [y_i = -1](\\log\\left(1-\\frac{1}{1 + e^{-\\langle x_i, w\\rangle}}\\right)) =\\\\\n",
        "$$\n",
        "$$\n",
        "=-\\frac{1}{\\ell} \\sum_{i=1}^{\\ell} [y_i = 1]\\log\\left(\\frac{1}{1 + e^{-\\langle x_i, w\\rangle}}\\right) + [y_i = -1](\\log\\left(\\frac{1}{1 + e^{\\langle x_i, w\\rangle}}\\right)) =\\\\\n",
        "$$\n",
        "$$\n",
        "=\\frac{1}{\\ell} \\sum_{i=1}^{\\ell} [y_i = 1]\\log(1 + e^{-\\langle x_i, w \\rangle}) + [y_i = -1]\\log(1 + e^{\\langle x_i, w \\rangle}) =\\\\\n",
        "$$\n",
        "$$\n",
        "=\\frac{1}{\\ell} \\sum_{i=1}^{\\ell}\\log(1 + e^{-y_i\\langle x_i, w\\rangle}) = \\tilde{Q}(X, w)\n",
        "$$"
      ]
    },
    {
      "cell_type": "markdown",
      "id": "anticipated-amplifier",
      "metadata": {
        "id": "anticipated-amplifier"
      },
      "source": [
        "Регуляризация вводится таким же образом, как это было в случае линейной регрессии. Например, функция потерь для $\\ell$-$2$ регуляризации выглядит так:\n",
        "\n",
        "$$\n",
        "\\tilde{Q}_{reg}(X, w) = \\tilde{Q}(X, w) + \\frac{1}{2}\\lambda\\|w\\|^2_2.\n",
        "$$"
      ]
    },
    {
      "cell_type": "markdown",
      "id": "lovely-empire",
      "metadata": {
        "id": "lovely-empire"
      },
      "source": [
        "**Саммари по логистической регрессии:**\n",
        "\n",
        "- Данные: $y_i \\in \\{-1, 1\\}$, $X$\n",
        "\n",
        "- Предсказания:\n",
        "\n",
        "    - По умолчанию предсказывает вероятности:\n",
        "    $$\n",
        "    \\hat{p}_i = \\sigma(\\langle x_i, w\\rangle) = \\frac{1}{1 + e^{-\\langle x_i, w\\rangle}}\n",
        "    $$\n",
        "    \n",
        "    - Если хотим перейти к метке, то сравниваем вероятность с порогом $t$:\n",
        "    \n",
        "    $$\n",
        "    \\hat{y}_i = \\begin{cases}\n",
        "    1,&\\text{ если } \\hat{p}_i > t,\\\\\n",
        "    -1,&\\text{ иначе.}\n",
        "    \\end{cases}\n",
        "    $$\n",
        "    \n",
        "- Обучение: \n",
        "\n",
        "$$\n",
        "\\tilde{Q}(X, w) = -\\frac{1}{\\ell} \\sum_{i=1}^{\\ell} [y_i = 1]\\log\\sigma(\\langle x_i, w \\rangle) + [y_i = -1]\\log(1-\\sigma(\\langle x_i, w \\rangle) \\to \\min_w\n",
        "$$"
      ]
    },
    {
      "cell_type": "markdown",
      "id": "cubic-fifty",
      "metadata": {
        "id": "cubic-fifty"
      },
      "source": [
        "### Метод опорных векторов (SVM)"
      ]
    },
    {
      "cell_type": "markdown",
      "id": "separated-superintendent",
      "metadata": {
        "id": "separated-superintendent"
      },
      "source": [
        "Метод опорных векторов – математически строго обоснованный метод, идея которого состоит в максимизации ширины разделяющей полосы между классами. Так как для подробного вывода SVM требуется уверенное владение методами квадратичной оптимизации, мы разберём только идею и практическую реализацию метода. \n",
        "\n",
        "Мы по-прежнему решаем задачу бинарной классификации и используем классификатор $f(x_i, w) = \\mathrm{sign}(\\langle x_i, w\\rangle)$. Предположим, что мы работаем с линейно разделимой выборкой. Определим отступ как минимальное расстояние от точек выборки до разделяющей поверхности классификатора:\n",
        "$$\n",
        "\\rho(x_i, \\langle x, w\\rangle) =  \\min_i\\dfrac{|{\\langle x_i, w\\rangle|}}{\\|w\\|}\n",
        "$$\n",
        "\n",
        "Задача состоит в том, чтобы максимизировать этот отступ:\n",
        "\n",
        "$$\n",
        "\\rho(x_i, \\langle x, w\\rangle) =  \\min_i\\dfrac{|{\\langle x_i, w\\rangle|}}{\\|w\\|} \\to \\max_w.\n",
        "$$\n",
        "\n",
        "Воспользуемся картинкой из Википедии, чтобы лучше понять эту идею:\n",
        "\n",
        "[<img src=\"https://upload.wikimedia.org/wikipedia/commons/thumb/7/72/SVM_margin.png/1920px-SVM_margin.png\" alt=\"drawing\" width=\"400\"/>](https://en.wikipedia.org/wiki/Support-vector_machine#/media/File:SVM_margin.png)\n",
        "\n",
        "Заметим, что при делении весов на положительное число ответы классификатора не меняются (веса просто пропорционально прошкалируются). Поделим все веса на \n",
        "\n",
        "$$\\min_i |\\langle x_i, w\\rangle| > 0.$$ \n",
        "\n",
        "Тогда будет верно, что $\\min_i |\\langle x_i, w\\rangle| = 1$, а значит отступ можно переписать как\n",
        "\n",
        "$$\n",
        "\\rho(\\langle x_i, w\\rangle) = \\frac{1}{\\|w\\|}.\n",
        "$$\n",
        "\n",
        "Получаем задачу SVM в линейно-разделимом случае:\n",
        "\n",
        "$$\n",
        "\\begin{cases}\n",
        "\\|w\\|^2 \\to \\min_{w}, \\\\\n",
        "y_i(\\langle x_i, w\\rangle) \\ge 1, \\\\\n",
        "\\end{cases}\n",
        "$$\n",
        "\n",
        "Если выборка не является линейно-разделимой, то нам придётся позволить линейному классификатору допускать ошибки на некоторых наблюдениях. Тогда задача превращается в поиск оптимального выбора между максимизацией ширины разделяющей полосы и ошибок классификации:\n",
        "\n",
        "$$\n",
        "\\begin{cases}\n",
        "\\|w\\|^2 + C \\sum_{i = 1}^{\\ell} \\xi_i \\to \\min_{w, \\xi_i}, \\\\\n",
        "y_i(\\langle x_i, w\\rangle) \\ge 1 - \\xi_i, \\\\\n",
        "\\xi_i \\ge 0\n",
        "\\end{cases}\n",
        "$$\n",
        "\n",
        "$C$ – параметр, который позволяет регулировать пропорции этого выбора. Чем больше $C$, тем больше штраф за неверную классификацию.\n",
        "\n",
        "[<img src=\"https://miro.medium.com/max/1400/1*0vOVPBmYCkw-sUt77HtyGA.png\" alt=\"drawing\" width=\"800\"/>](https://towardsdatascience.com/support-vector-machine-simply-explained-fee28eba5496)\n",
        "\n",
        "Путём хитрых математических преобразований (объединив ограничения) можно показать, что итоговая функция потерь SVM выглядит следующим образом:\n",
        "\n",
        "$$\n",
        "Q(X, w) = C\\sum_{i=1}^{l} \\max\\{0, 1 - y_i(\\langle x_i, w\\rangle)\\} + \\|w\\|^2 \\to \\min_w\n",
        "$$"
      ]
    },
    {
      "cell_type": "markdown",
      "id": "technological-cooperation",
      "metadata": {
        "id": "technological-cooperation"
      },
      "source": [
        "### Ирисы Фишера. Свойства логистической регрессии и SVM"
      ]
    },
    {
      "cell_type": "markdown",
      "id": "anonymous-reporter",
      "metadata": {
        "id": "anonymous-reporter"
      },
      "source": [
        "Рассмотрим свойства логистической регрессии и метода опорных векторов на примере классического набора данных [\"Ирисы Фишера\"](https://ru.wikipedia.org/wiki/Ирисы_Фишера). Этот набор состоит из 150 наблюдений, каждое из которых представляет собой четыре измерения: длина наружной доли околоцветника (`sepal length`), ширина наружной доли околоцветника (`sepal width`), длина внутренней доли околоцветника (`petal length`), ширина внутренней доли околоцветника (`petal width`). Каждое наблюдение относится к одному из трёх классов ириса: `setosa`, `versicolor` или `virginica`. Задача состоит в том, чтобы по измерениям предсказать класс цветка. \n",
        "\n",
        "[<img src=\"https://miro.medium.com/v2/resize:fit:1000/1*Hh53mOF4Xy4eORjLilKOwA.png\" alt=\"drawing\" width=\"800\"/>](https://miro.medium.com/max/1000/1*Hh53mOF4Xy4eORjLilKOwA.png)"
      ]
    },
    {
      "cell_type": "code",
      "execution_count": null,
      "id": "medieval-cowboy",
      "metadata": {
        "id": "medieval-cowboy",
        "outputId": "b773d19a-87d0-4f9a-ed6e-6b87ea8102ae",
        "colab": {
          "base_uri": "https://localhost:8080/",
          "height": 206
        }
      },
      "outputs": [
        {
          "output_type": "execute_result",
          "data": {
            "text/plain": [
              "   sepal length (cm)  sepal width (cm)  petal length (cm)  petal width (cm)\n",
              "0                5.1               3.5                1.4               0.2\n",
              "1                4.9               3.0                1.4               0.2\n",
              "2                4.7               3.2                1.3               0.2\n",
              "3                4.6               3.1                1.5               0.2\n",
              "4                5.0               3.6                1.4               0.2"
            ],
            "text/html": [
              "\n",
              "  <div id=\"df-36cf7fcb-8acf-4f93-b619-1381f4e13663\">\n",
              "    <div class=\"colab-df-container\">\n",
              "      <div>\n",
              "<style scoped>\n",
              "    .dataframe tbody tr th:only-of-type {\n",
              "        vertical-align: middle;\n",
              "    }\n",
              "\n",
              "    .dataframe tbody tr th {\n",
              "        vertical-align: top;\n",
              "    }\n",
              "\n",
              "    .dataframe thead th {\n",
              "        text-align: right;\n",
              "    }\n",
              "</style>\n",
              "<table border=\"1\" class=\"dataframe\">\n",
              "  <thead>\n",
              "    <tr style=\"text-align: right;\">\n",
              "      <th></th>\n",
              "      <th>sepal length (cm)</th>\n",
              "      <th>sepal width (cm)</th>\n",
              "      <th>petal length (cm)</th>\n",
              "      <th>petal width (cm)</th>\n",
              "    </tr>\n",
              "  </thead>\n",
              "  <tbody>\n",
              "    <tr>\n",
              "      <th>0</th>\n",
              "      <td>5.1</td>\n",
              "      <td>3.5</td>\n",
              "      <td>1.4</td>\n",
              "      <td>0.2</td>\n",
              "    </tr>\n",
              "    <tr>\n",
              "      <th>1</th>\n",
              "      <td>4.9</td>\n",
              "      <td>3.0</td>\n",
              "      <td>1.4</td>\n",
              "      <td>0.2</td>\n",
              "    </tr>\n",
              "    <tr>\n",
              "      <th>2</th>\n",
              "      <td>4.7</td>\n",
              "      <td>3.2</td>\n",
              "      <td>1.3</td>\n",
              "      <td>0.2</td>\n",
              "    </tr>\n",
              "    <tr>\n",
              "      <th>3</th>\n",
              "      <td>4.6</td>\n",
              "      <td>3.1</td>\n",
              "      <td>1.5</td>\n",
              "      <td>0.2</td>\n",
              "    </tr>\n",
              "    <tr>\n",
              "      <th>4</th>\n",
              "      <td>5.0</td>\n",
              "      <td>3.6</td>\n",
              "      <td>1.4</td>\n",
              "      <td>0.2</td>\n",
              "    </tr>\n",
              "  </tbody>\n",
              "</table>\n",
              "</div>\n",
              "      <button class=\"colab-df-convert\" onclick=\"convertToInteractive('df-36cf7fcb-8acf-4f93-b619-1381f4e13663')\"\n",
              "              title=\"Convert this dataframe to an interactive table.\"\n",
              "              style=\"display:none;\">\n",
              "        \n",
              "  <svg xmlns=\"http://www.w3.org/2000/svg\" height=\"24px\"viewBox=\"0 0 24 24\"\n",
              "       width=\"24px\">\n",
              "    <path d=\"M0 0h24v24H0V0z\" fill=\"none\"/>\n",
              "    <path d=\"M18.56 5.44l.94 2.06.94-2.06 2.06-.94-2.06-.94-.94-2.06-.94 2.06-2.06.94zm-11 1L8.5 8.5l.94-2.06 2.06-.94-2.06-.94L8.5 2.5l-.94 2.06-2.06.94zm10 10l.94 2.06.94-2.06 2.06-.94-2.06-.94-.94-2.06-.94 2.06-2.06.94z\"/><path d=\"M17.41 7.96l-1.37-1.37c-.4-.4-.92-.59-1.43-.59-.52 0-1.04.2-1.43.59L10.3 9.45l-7.72 7.72c-.78.78-.78 2.05 0 2.83L4 21.41c.39.39.9.59 1.41.59.51 0 1.02-.2 1.41-.59l7.78-7.78 2.81-2.81c.8-.78.8-2.07 0-2.86zM5.41 20L4 18.59l7.72-7.72 1.47 1.35L5.41 20z\"/>\n",
              "  </svg>\n",
              "      </button>\n",
              "      \n",
              "  <style>\n",
              "    .colab-df-container {\n",
              "      display:flex;\n",
              "      flex-wrap:wrap;\n",
              "      gap: 12px;\n",
              "    }\n",
              "\n",
              "    .colab-df-convert {\n",
              "      background-color: #E8F0FE;\n",
              "      border: none;\n",
              "      border-radius: 50%;\n",
              "      cursor: pointer;\n",
              "      display: none;\n",
              "      fill: #1967D2;\n",
              "      height: 32px;\n",
              "      padding: 0 0 0 0;\n",
              "      width: 32px;\n",
              "    }\n",
              "\n",
              "    .colab-df-convert:hover {\n",
              "      background-color: #E2EBFA;\n",
              "      box-shadow: 0px 1px 2px rgba(60, 64, 67, 0.3), 0px 1px 3px 1px rgba(60, 64, 67, 0.15);\n",
              "      fill: #174EA6;\n",
              "    }\n",
              "\n",
              "    [theme=dark] .colab-df-convert {\n",
              "      background-color: #3B4455;\n",
              "      fill: #D2E3FC;\n",
              "    }\n",
              "\n",
              "    [theme=dark] .colab-df-convert:hover {\n",
              "      background-color: #434B5C;\n",
              "      box-shadow: 0px 1px 3px 1px rgba(0, 0, 0, 0.15);\n",
              "      filter: drop-shadow(0px 1px 2px rgba(0, 0, 0, 0.3));\n",
              "      fill: #FFFFFF;\n",
              "    }\n",
              "  </style>\n",
              "\n",
              "      <script>\n",
              "        const buttonEl =\n",
              "          document.querySelector('#df-36cf7fcb-8acf-4f93-b619-1381f4e13663 button.colab-df-convert');\n",
              "        buttonEl.style.display =\n",
              "          google.colab.kernel.accessAllowed ? 'block' : 'none';\n",
              "\n",
              "        async function convertToInteractive(key) {\n",
              "          const element = document.querySelector('#df-36cf7fcb-8acf-4f93-b619-1381f4e13663');\n",
              "          const dataTable =\n",
              "            await google.colab.kernel.invokeFunction('convertToInteractive',\n",
              "                                                     [key], {});\n",
              "          if (!dataTable) return;\n",
              "\n",
              "          const docLinkHtml = 'Like what you see? Visit the ' +\n",
              "            '<a target=\"_blank\" href=https://colab.research.google.com/notebooks/data_table.ipynb>data table notebook</a>'\n",
              "            + ' to learn more about interactive tables.';\n",
              "          element.innerHTML = '';\n",
              "          dataTable['output_type'] = 'display_data';\n",
              "          await google.colab.output.renderOutput(dataTable, element);\n",
              "          const docLink = document.createElement('div');\n",
              "          docLink.innerHTML = docLinkHtml;\n",
              "          element.appendChild(docLink);\n",
              "        }\n",
              "      </script>\n",
              "    </div>\n",
              "  </div>\n",
              "  "
            ]
          },
          "metadata": {},
          "execution_count": 3
        }
      ],
      "source": [
        "from sklearn.datasets import load_iris\n",
        "data = load_iris()\n",
        "X = pd.DataFrame(data['data'], columns = data['feature_names'])\n",
        "y = data['target']\n",
        "X.head()"
      ]
    },
    {
      "cell_type": "code",
      "source": [
        "data['target']"
      ],
      "metadata": {
        "colab": {
          "base_uri": "https://localhost:8080/"
        },
        "id": "QhC_Eh1u8Y8A",
        "outputId": "5bfc46bc-504a-48f4-f969-ee166789d9a4"
      },
      "id": "QhC_Eh1u8Y8A",
      "execution_count": null,
      "outputs": [
        {
          "output_type": "execute_result",
          "data": {
            "text/plain": [
              "array([0, 0, 0, 0, 0, 0, 0, 0, 0, 0, 0, 0, 0, 0, 0, 0, 0, 0, 0, 0, 0, 0,\n",
              "       0, 0, 0, 0, 0, 0, 0, 0, 0, 0, 0, 0, 0, 0, 0, 0, 0, 0, 0, 0, 0, 0,\n",
              "       0, 0, 0, 0, 0, 0, 1, 1, 1, 1, 1, 1, 1, 1, 1, 1, 1, 1, 1, 1, 1, 1,\n",
              "       1, 1, 1, 1, 1, 1, 1, 1, 1, 1, 1, 1, 1, 1, 1, 1, 1, 1, 1, 1, 1, 1,\n",
              "       1, 1, 1, 1, 1, 1, 1, 1, 1, 1, 1, 1, 2, 2, 2, 2, 2, 2, 2, 2, 2, 2,\n",
              "       2, 2, 2, 2, 2, 2, 2, 2, 2, 2, 2, 2, 2, 2, 2, 2, 2, 2, 2, 2, 2, 2,\n",
              "       2, 2, 2, 2, 2, 2, 2, 2, 2, 2, 2, 2, 2, 2, 2, 2, 2, 2])"
            ]
          },
          "metadata": {},
          "execution_count": 5
        }
      ]
    },
    {
      "cell_type": "markdown",
      "id": "conservative-target",
      "metadata": {
        "id": "conservative-target"
      },
      "source": [
        "**Задание 1.** Перейдём к задаче бинарной классификации: будем предсказывать принадлежность цветка к виду `versicolor` против принадлежности ко всем прочим видам. Перекодируйте зависимую переменную так, чтобы цветки вида `versicolor` имели метку 1, а прочих видов – метку -1. "
      ]
    },
    {
      "cell_type": "code",
      "execution_count": null,
      "id": "signal-stereo",
      "metadata": {
        "id": "signal-stereo"
      },
      "outputs": [],
      "source": [
        "y[y != 1] = -1"
      ]
    },
    {
      "cell_type": "markdown",
      "id": "governmental-repository",
      "metadata": {
        "id": "governmental-repository"
      },
      "source": [
        "**Задание 2**. Будем работать с двумя признаками: `sepal length (cm)` и `sepal width (cm)`. Отделите их в отдельную матрицу. Разделите выборку на обучающую и тестовую, долю тестовой выборки укажите равной 0.3. Отмасштабируйте выборки при помощи StandardScaler. Постройте диаграмму рассеяния по тренировочной выборке и убедитесь, что данные линейно не разделимы. "
      ]
    },
    {
      "cell_type": "code",
      "execution_count": null,
      "id": "ordered-pavilion",
      "metadata": {
        "id": "ordered-pavilion",
        "outputId": "af1b0b62-8138-4e9e-add2-823a20b4e409",
        "colab": {
          "base_uri": "https://localhost:8080/",
          "height": 449
        }
      },
      "outputs": [
        {
          "output_type": "execute_result",
          "data": {
            "text/plain": [
              "<matplotlib.collections.PathCollection at 0x7ff9bbb3dd00>"
            ]
          },
          "metadata": {},
          "execution_count": 14
        },
        {
          "output_type": "display_data",
          "data": {
            "text/plain": [
              "<Figure size 640x480 with 1 Axes>"
            ],
            "image/png": "[encoded data removed]"
          },
          "metadata": {}
        }
      ],
      "source": [
        "from sklearn.model_selection import train_test_split\n",
        "from sklearn.preprocessing import StandardScaler\n",
        "np.random.seed(123)\n",
        "\n",
        "X = X[['sepal length (cm)', 'sepal width (cm)']]\n",
        "\n",
        "X_train, X_test, y_train, y_test = train_test_split(X, y, test_size=0.3)\n",
        "\n",
        "# Отмасштабируйте признаки\n",
        "ss = StandardScaler()\n",
        "X_train = ss.fit_transform(X_train)\n",
        "X_test = ss.transform(X_test)\n",
        "\n",
        "plt.scatter(X_train[:, 0], X_train[:, 1], c = y_train)"
      ]
    },
    {
      "cell_type": "markdown",
      "id": "divine-lease",
      "metadata": {
        "id": "divine-lease"
      },
      "source": [
        "**Задание 3.** Обучите логистическую регрессию и **SVM с линейным ядром** на тренировочной выборке и убедитесь, что полученные оценки весов действительно различаются. Убедитесь, что `accuracy`, возможно, не подходит в качестве метрики для данной задачи и рассчитайте `f1-меру` на тестовой выборке. Какой алгорим показал более высокое качество?"
      ]
    },
    {
      "cell_type": "code",
      "execution_count": null,
      "id": "interim-rabbit",
      "metadata": {
        "id": "interim-rabbit"
      },
      "outputs": [],
      "source": [
        "from sklearn.linear_model import LogisticRegression\n",
        "from sklearn.svm import SVC"
      ]
    },
    {
      "cell_type": "code",
      "source": [
        "lr = LogisticRegression()\n",
        "svm = SVC(kernel = 'linear')\n",
        "\n",
        "# Обучите логистическую регрессию и SVM\n",
        "lr.fit(X_train, y_train)\n",
        "svm.fit(X_train, y_train)\n",
        "\n",
        "with np.printoptions(precision=6, suppress=True):\n",
        "    print(\"lr:\", lr.coef_)\n",
        "    print(\"svm:\", svm.coef_)"
      ],
      "metadata": {
        "id": "8QU0q2SkAeGK"
      },
      "id": "8QU0q2SkAeGK",
      "execution_count": null,
      "outputs": []
    },
    {
      "cell_type": "code",
      "source": [
        "from sklearn.metrics import accuracy_score, f1_score\n",
        "\n",
        "from scipy import stats"
      ],
      "metadata": {
        "id": "SsmZo92GAc4S"
      },
      "id": "SsmZo92GAc4S",
      "execution_count": null,
      "outputs": []
    },
    {
      "cell_type": "code",
      "source": [
        "print(\"lr accuracy_score:\", accuracy_score(y_test, lr.predict(X_test)))\n",
        "print(\"svm accuracy_score:\", accuracy_score(y_test, svm.predict(X_test)))"
      ],
      "metadata": {
        "colab": {
          "base_uri": "https://localhost:8080/"
        },
        "id": "MJX20sFSAfv7",
        "outputId": "1798bcf8-46f5-4d4f-f1d4-3d48b37a54c6"
      },
      "id": "MJX20sFSAfv7",
      "execution_count": null,
      "outputs": [
        {
          "output_type": "stream",
          "name": "stdout",
          "text": [
            "lr accuracy_score: 0.8444444444444444\n",
            "svm accuracy_score: 0.9111111111111111\n"
          ]
        }
      ]
    },
    {
      "cell_type": "code",
      "source": [
        "print(\"base accuracy_score\", accuracy_score(y_test, np.full(y_test.shape, stats.mode(y_test).mode[0])))"
      ],
      "metadata": {
        "colab": {
          "base_uri": "https://localhost:8080/"
        },
        "id": "eJlTSCD2Ahki",
        "outputId": "f991dff8-0a66-48a8-9574-33a70c32386e"
      },
      "id": "eJlTSCD2Ahki",
      "execution_count": null,
      "outputs": [
        {
          "output_type": "stream",
          "name": "stdout",
          "text": [
            "base accuracy_score 0.7777777777777778\n"
          ]
        },
        {
          "output_type": "stream",
          "name": "stderr",
          "text": [
            "<ipython-input-42-545112ae3487>:1: FutureWarning: Unlike other reduction functions (e.g. `skew`, `kurtosis`), the default behavior of `mode` typically preserves the axis it acts along. In SciPy 1.11.0, this behavior will change: the default value of `keepdims` will become False, the `axis` over which the statistic is taken will be eliminated, and the value None will no longer be accepted. Set `keepdims` to True or False to avoid this warning.\n",
            "  print(\"base accuracy_score\", accuracy_score(y_test, np.full(y_test.shape, stats.mode(y_test).mode[0])))\n"
          ]
        }
      ]
    },
    {
      "cell_type": "code",
      "execution_count": null,
      "id": "spiritual-definition",
      "metadata": {
        "id": "spiritual-definition",
        "outputId": "781abaac-49bd-45ff-a2a3-c404fa70bf59",
        "colab": {
          "base_uri": "https://localhost:8080/"
        }
      },
      "outputs": [
        {
          "output_type": "stream",
          "name": "stdout",
          "text": [
            "lr f1_score: 0.6956521739130435\n",
            "svm f1_score: 0.8000000000000002\n"
          ]
        }
      ],
      "source": [
        "print(\"lr f1_score:\", f1_score(y_test, lr.predict(X_test)))\n",
        "print(\"svm f1_score:\", f1_score(y_test, svm.predict(X_test)))"
      ]
    },
    {
      "cell_type": "code",
      "source": [
        "print(\"base f1_score\", f1_score(y_test, np.full(y_test.shape, stats.mode(y_test).mode[0])))"
      ],
      "metadata": {
        "colab": {
          "base_uri": "https://localhost:8080/"
        },
        "id": "Zz68rkDMAo0X",
        "outputId": "73d14988-f794-4ea6-9ba2-b8726508c19c"
      },
      "id": "Zz68rkDMAo0X",
      "execution_count": null,
      "outputs": [
        {
          "output_type": "stream",
          "name": "stdout",
          "text": [
            "base f1_score 0.0\n"
          ]
        },
        {
          "output_type": "stream",
          "name": "stderr",
          "text": [
            "<ipython-input-45-06cc7b373f01>:1: FutureWarning: Unlike other reduction functions (e.g. `skew`, `kurtosis`), the default behavior of `mode` typically preserves the axis it acts along. In SciPy 1.11.0, this behavior will change: the default value of `keepdims` will become False, the `axis` over which the statistic is taken will be eliminated, and the value None will no longer be accepted. Set `keepdims` to True or False to avoid this warning.\n",
            "  print(\"base f1_score\", f1_score(y_test, np.full(y_test.shape, stats.mode(y_test).mode[0])))\n"
          ]
        }
      ]
    },
    {
      "cell_type": "markdown",
      "id": "running-stock",
      "metadata": {
        "id": "running-stock"
      },
      "source": [
        "Теперь посмотрим, как различаются решающие поверхности алгоритмов. "
      ]
    },
    {
      "cell_type": "markdown",
      "id": "manufactured-breeding",
      "metadata": {
        "id": "manufactured-breeding"
      },
      "source": [
        "Код ниже построит решающие поверхности для классификаторов. Чтобы он заработал, нужно обязательно сделать `fit` для `lr` и `svm` выше."
      ]
    },
    {
      "cell_type": "code",
      "execution_count": null,
      "id": "divine-period",
      "metadata": {
        "id": "divine-period",
        "colab": {
          "base_uri": "https://localhost:8080/"
        },
        "outputId": "fa588915-7fe8-4081-d740-87af03286892"
      },
      "outputs": [
        {
          "output_type": "stream",
          "name": "stdout",
          "text": [
            "Looking in indexes: https://pypi.org/simple, https://us-python.pkg.dev/colab-wheels/public/simple/\n",
            "Requirement already satisfied: mlxtend in /usr/local/lib/python3.9/dist-packages (0.22.0)\n",
            "Requirement already satisfied: matplotlib>=3.0.0 in /usr/local/lib/python3.9/dist-packages (from mlxtend) (3.7.1)\n",
            "Requirement already satisfied: scikit-learn>=1.0.2 in /usr/local/lib/python3.9/dist-packages (from mlxtend) (1.2.2)\n",
            "Requirement already satisfied: setuptools in /usr/local/lib/python3.9/dist-packages (from mlxtend) (67.6.1)\n",
            "Requirement already satisfied: joblib>=0.13.2 in /usr/local/lib/python3.9/dist-packages (from mlxtend) (1.1.1)\n",
            "Requirement already satisfied: numpy>=1.16.2 in /usr/local/lib/python3.9/dist-packages (from mlxtend) (1.22.4)\n",
            "Requirement already satisfied: pandas>=0.24.2 in /usr/local/lib/python3.9/dist-packages (from mlxtend) (1.4.4)\n",
            "Requirement already satisfied: scipy>=1.2.1 in /usr/local/lib/python3.9/dist-packages (from mlxtend) (1.10.1)\n",
            "Requirement already satisfied: importlib-resources>=3.2.0 in /usr/local/lib/python3.9/dist-packages (from matplotlib>=3.0.0->mlxtend) (5.12.0)\n",
            "Requirement already satisfied: packaging>=20.0 in /usr/local/lib/python3.9/dist-packages (from matplotlib>=3.0.0->mlxtend) (23.0)\n",
            "Requirement already satisfied: contourpy>=1.0.1 in /usr/local/lib/python3.9/dist-packages (from matplotlib>=3.0.0->mlxtend) (1.0.7)\n",
            "Requirement already satisfied: pillow>=6.2.0 in /usr/local/lib/python3.9/dist-packages (from matplotlib>=3.0.0->mlxtend) (8.4.0)\n",
            "Requirement already satisfied: python-dateutil>=2.7 in /usr/local/lib/python3.9/dist-packages (from matplotlib>=3.0.0->mlxtend) (2.8.2)\n",
            "Requirement already satisfied: kiwisolver>=1.0.1 in /usr/local/lib/python3.9/dist-packages (from matplotlib>=3.0.0->mlxtend) (1.4.4)\n",
            "Requirement already satisfied: fonttools>=4.22.0 in /usr/local/lib/python3.9/dist-packages (from matplotlib>=3.0.0->mlxtend) (4.39.3)\n",
            "Requirement already satisfied: pyparsing>=2.3.1 in /usr/local/lib/python3.9/dist-packages (from matplotlib>=3.0.0->mlxtend) (3.0.9)\n",
            "Requirement already satisfied: cycler>=0.10 in /usr/local/lib/python3.9/dist-packages (from matplotlib>=3.0.0->mlxtend) (0.11.0)\n",
            "Requirement already satisfied: pytz>=2020.1 in /usr/local/lib/python3.9/dist-packages (from pandas>=0.24.2->mlxtend) (2022.7.1)\n",
            "Requirement already satisfied: threadpoolctl>=2.0.0 in /usr/local/lib/python3.9/dist-packages (from scikit-learn>=1.0.2->mlxtend) (3.1.0)\n",
            "Requirement already satisfied: zipp>=3.1.0 in /usr/local/lib/python3.9/dist-packages (from importlib-resources>=3.2.0->matplotlib>=3.0.0->mlxtend) (3.15.0)\n",
            "Requirement already satisfied: six>=1.5 in /usr/local/lib/python3.9/dist-packages (from python-dateutil>=2.7->matplotlib>=3.0.0->mlxtend) (1.16.0)\n"
          ]
        }
      ],
      "source": [
        "# !pip install mlxtend\n",
        "\n",
        "# В Колабе, возможно\n",
        "!pip install mlxtend --upgrade"
      ]
    },
    {
      "cell_type": "code",
      "execution_count": null,
      "id": "impressive-chamber",
      "metadata": {
        "id": "impressive-chamber"
      },
      "outputs": [],
      "source": [
        "import itertools\n",
        "\n",
        "import matplotlib.gridspec as gridspec\n",
        "import matplotlib.pyplot as plt\n",
        "\n",
        "from mlxtend.plotting import plot_decision_regions\n",
        "\n",
        "gs = gridspec.GridSpec(1, 2)\n",
        "\n",
        "fig = plt.figure(figsize=(10,8))\n",
        "\n",
        "labels = ['Logistic Regression', 'SVM']\n",
        "for clf, lab, grd in zip([lr, svm],\n",
        "                         labels,\n",
        "                         itertools.product([0, 1], repeat=2)):\n",
        "    ax = plt.subplot(gs[grd[0], grd[1]])\n",
        "    fig = plot_decision_regions(X = np.array(X_train), y = np.array(y_train), clf=clf, legend=2)\n",
        "    plt.title(lab)\n",
        "\n",
        "plt.show()"
      ]
    },
    {
      "cell_type": "markdown",
      "id": "satellite-vacation",
      "metadata": {
        "id": "satellite-vacation"
      },
      "source": [
        "Теперь изучим свойства каждого классификатора по-отдельности. Начнём с логистической регрессии.\n",
        "\n",
        "**Задание 3.** Обучите три различные логистические регрессии с разным параметром регуляризации $\\alpha$ (обратите внимание, что в реализации `sklearn` $C = 1/\\alpha$). Как изменяется разделяющая поверхность в зависимости от $\\alpha$?"
      ]
    },
    {
      "cell_type": "code",
      "execution_count": null,
      "id": "proper-accused",
      "metadata": {
        "id": "proper-accused"
      },
      "outputs": [],
      "source": [
        "lr1 = LogisticRegression(C = 0.01)\n",
        "lr2 = LogisticRegression(C = 0.05)\n",
        "lr3 = LogisticRegression(C = 10)"
      ]
    },
    {
      "cell_type": "code",
      "execution_count": null,
      "id": "thorough-architect",
      "metadata": {
        "id": "thorough-architect",
        "outputId": "ebfc53b0-6d89-4d60-84fc-7d8d778b46f6"
      },
      "outputs": [
        {
          "data": {
            "image/png": "[encoded data removed]",
            "text/plain": [
              "<Figure size 1080x576 with 3 Axes>"
            ]
          },
          "metadata": {
            "needs_background": "light"
          },
          "output_type": "display_data"
        }
      ],
      "source": [
        "import matplotlib.pyplot as plt\n",
        "from mlxtend.plotting import plot_decision_regions\n",
        "import matplotlib.gridspec as gridspec\n",
        "import itertools\n",
        "gs = gridspec.GridSpec(1, 3)\n",
        "\n",
        "fig = plt.figure(figsize=(15,8))\n",
        "\n",
        "labels = ['C = 0.01', 'C = 0.05', 'C = 10']\n",
        "for clf, lab, grd in zip([lr1, lr2, lr3],\n",
        "                         labels,\n",
        "                         itertools.product([0, 1, 2], repeat=2)):\n",
        "    clf.fit(X_train, y_train)\n",
        "    ax = plt.subplot(gs[grd[0], grd[1]])\n",
        "    fig = plot_decision_regions(X = X_train, y = np.array(y_train), clf=clf, legend=2)\n",
        "    plt.title(lab)\n",
        "\n",
        "plt.show()"
      ]
    },
    {
      "cell_type": "markdown",
      "id": "behind-northern",
      "metadata": {
        "id": "behind-northern"
      },
      "source": [
        "Перейдём к SVM.\n",
        "\n",
        "**Задание 4.** Обучите три SVM с линейным ядром с разным параметром регуляризации $C$. Как изменяется разделяющая поверхность в зависимости от $C$?"
      ]
    },
    {
      "cell_type": "code",
      "execution_count": null,
      "id": "found-shadow",
      "metadata": {
        "id": "found-shadow"
      },
      "outputs": [],
      "source": [
        "svc1 = SVC(C = 0.04, kernel = 'linear')\n",
        "svc2 = SVC(C = 1, kernel = 'linear')\n",
        "svc3 = SVC(C = 10, kernel = 'linear')"
      ]
    },
    {
      "cell_type": "code",
      "execution_count": null,
      "id": "imperial-primary",
      "metadata": {
        "id": "imperial-primary",
        "outputId": "85d5a1ab-dc3d-441c-876d-d59821d85fbc"
      },
      "outputs": [
        {
          "data": {
            "image/png": "[encoded data removed]",
            "text/plain": [
              "<Figure size 1080x576 with 3 Axes>"
            ]
          },
          "metadata": {
            "needs_background": "light"
          },
          "output_type": "display_data"
        }
      ],
      "source": [
        "import matplotlib.pyplot as plt\n",
        "from mlxtend.plotting import plot_decision_regions\n",
        "import matplotlib.gridspec as gridspec\n",
        "import itertools\n",
        "gs = gridspec.GridSpec(1, 3)\n",
        "\n",
        "fig = plt.figure(figsize=(15,8))\n",
        "\n",
        "labels = ['C = 0.04', 'C = 1', 'C = 10']\n",
        "for clf, lab, grd in zip([svc1, svc2, svc3],\n",
        "                         labels,\n",
        "                         itertools.product([0, 1, 2], repeat=2)):\n",
        "    clf.fit(X_train, y_train)\n",
        "    ax = plt.subplot(gs[grd[0], grd[1]])\n",
        "    fig = plot_decision_regions(X = X_train, y = np.array(y_train), clf=clf, legend=2)\n",
        "    plt.title(lab)\n",
        "\n",
        "plt.show()"
      ]
    },
    {
      "cell_type": "markdown",
      "id": "touched-resource",
      "metadata": {
        "id": "touched-resource"
      },
      "source": [
        "### Логистическая регрессия и SVM на менее приятных данных (если есть время)"
      ]
    },
    {
      "cell_type": "markdown",
      "id": "accessible-cleanup",
      "metadata": {
        "id": "accessible-cleanup"
      },
      "source": [
        "Мы будем работать с [набором данных](https://www.kaggle.com/piyushgoyal443/red-wine-dataset?select=wineQualityReds.csv), содержащим информацию о характеристиках вина. Каждое наблюдение принадлежит к одному из 10 категорий качества вина, и наша задача заключается в том, что предсказать эту категорию. "
      ]
    },
    {
      "cell_type": "code",
      "execution_count": null,
      "id": "multiple-humor",
      "metadata": {
        "id": "multiple-humor",
        "outputId": "1fe2387c-4323-407d-a769-0fc32e040f5e",
        "colab": {
          "base_uri": "https://localhost:8080/",
          "height": 206
        }
      },
      "outputs": [
        {
          "output_type": "execute_result",
          "data": {
            "text/plain": [
              "   fixed.acidity  volatile.acidity  citric.acid  residual.sugar  chlorides  \\\n",
              "1            7.4              0.70         0.00             1.9      0.076   \n",
              "2            7.8              0.88         0.00             2.6      0.098   \n",
              "3            7.8              0.76         0.04             2.3      0.092   \n",
              "4           11.2              0.28         0.56             1.9      0.075   \n",
              "5            7.4              0.70         0.00             1.9      0.076   \n",
              "\n",
              "   free.sulfur.dioxide  total.sulfur.dioxide  density    pH  sulphates  \\\n",
              "1                 11.0                  34.0   0.9978  3.51       0.56   \n",
              "2                 25.0                  67.0   0.9968  3.20       0.68   \n",
              "3                 15.0                  54.0   0.9970  3.26       0.65   \n",
              "4                 17.0                  60.0   0.9980  3.16       0.58   \n",
              "5                 11.0                  34.0   0.9978  3.51       0.56   \n",
              "\n",
              "   alcohol  quality  \n",
              "1      9.4        5  \n",
              "2      9.8        5  \n",
              "3      9.8        5  \n",
              "4      9.8        6  \n",
              "5      9.4        5  "
            ],
            "text/html": [
              "\n",
              "  <div id=\"df-7ab1529f-830c-49ad-8ad1-e7f4dde9bb75\">\n",
              "    <div class=\"colab-df-container\">\n",
              "      <div>\n",
              "<style scoped>\n",
              "    .dataframe tbody tr th:only-of-type {\n",
              "        vertical-align: middle;\n",
              "    }\n",
              "\n",
              "    .dataframe tbody tr th {\n",
              "        vertical-align: top;\n",
              "    }\n",
              "\n",
              "    .dataframe thead th {\n",
              "        text-align: right;\n",
              "    }\n",
              "</style>\n",
              "<table border=\"1\" class=\"dataframe\">\n",
              "  <thead>\n",
              "    <tr style=\"text-align: right;\">\n",
              "      <th></th>\n",
              "      <th>fixed.acidity</th>\n",
              "      <th>volatile.acidity</th>\n",
              "      <th>citric.acid</th>\n",
              "      <th>residual.sugar</th>\n",
              "      <th>chlorides</th>\n",
              "      <th>free.sulfur.dioxide</th>\n",
              "      <th>total.sulfur.dioxide</th>\n",
              "      <th>density</th>\n",
              "      <th>pH</th>\n",
              "      <th>sulphates</th>\n",
              "      <th>alcohol</th>\n",
              "      <th>quality</th>\n",
              "    </tr>\n",
              "  </thead>\n",
              "  <tbody>\n",
              "    <tr>\n",
              "      <th>1</th>\n",
              "      <td>7.4</td>\n",
              "      <td>0.70</td>\n",
              "      <td>0.00</td>\n",
              "      <td>1.9</td>\n",
              "      <td>0.076</td>\n",
              "      <td>11.0</td>\n",
              "      <td>34.0</td>\n",
              "      <td>0.9978</td>\n",
              "      <td>3.51</td>\n",
              "      <td>0.56</td>\n",
              "      <td>9.4</td>\n",
              "      <td>5</td>\n",
              "    </tr>\n",
              "    <tr>\n",
              "      <th>2</th>\n",
              "      <td>7.8</td>\n",
              "      <td>0.88</td>\n",
              "      <td>0.00</td>\n",
              "      <td>2.6</td>\n",
              "      <td>0.098</td>\n",
              "      <td>25.0</td>\n",
              "      <td>67.0</td>\n",
              "      <td>0.9968</td>\n",
              "      <td>3.20</td>\n",
              "      <td>0.68</td>\n",
              "      <td>9.8</td>\n",
              "      <td>5</td>\n",
              "    </tr>\n",
              "    <tr>\n",
              "      <th>3</th>\n",
              "      <td>7.8</td>\n",
              "      <td>0.76</td>\n",
              "      <td>0.04</td>\n",
              "      <td>2.3</td>\n",
              "      <td>0.092</td>\n",
              "      <td>15.0</td>\n",
              "      <td>54.0</td>\n",
              "      <td>0.9970</td>\n",
              "      <td>3.26</td>\n",
              "      <td>0.65</td>\n",
              "      <td>9.8</td>\n",
              "      <td>5</td>\n",
              "    </tr>\n",
              "    <tr>\n",
              "      <th>4</th>\n",
              "      <td>11.2</td>\n",
              "      <td>0.28</td>\n",
              "      <td>0.56</td>\n",
              "      <td>1.9</td>\n",
              "      <td>0.075</td>\n",
              "      <td>17.0</td>\n",
              "      <td>60.0</td>\n",
              "      <td>0.9980</td>\n",
              "      <td>3.16</td>\n",
              "      <td>0.58</td>\n",
              "      <td>9.8</td>\n",
              "      <td>6</td>\n",
              "    </tr>\n",
              "    <tr>\n",
              "      <th>5</th>\n",
              "      <td>7.4</td>\n",
              "      <td>0.70</td>\n",
              "      <td>0.00</td>\n",
              "      <td>1.9</td>\n",
              "      <td>0.076</td>\n",
              "      <td>11.0</td>\n",
              "      <td>34.0</td>\n",
              "      <td>0.9978</td>\n",
              "      <td>3.51</td>\n",
              "      <td>0.56</td>\n",
              "      <td>9.4</td>\n",
              "      <td>5</td>\n",
              "    </tr>\n",
              "  </tbody>\n",
              "</table>\n",
              "</div>\n",
              "      <button class=\"colab-df-convert\" onclick=\"convertToInteractive('df-7ab1529f-830c-49ad-8ad1-e7f4dde9bb75')\"\n",
              "              title=\"Convert this dataframe to an interactive table.\"\n",
              "              style=\"display:none;\">\n",
              "        \n",
              "  <svg xmlns=\"http://www.w3.org/2000/svg\" height=\"24px\"viewBox=\"0 0 24 24\"\n",
              "       width=\"24px\">\n",
              "    <path d=\"M0 0h24v24H0V0z\" fill=\"none\"/>\n",
              "    <path d=\"M18.56 5.44l.94 2.06.94-2.06 2.06-.94-2.06-.94-.94-2.06-.94 2.06-2.06.94zm-11 1L8.5 8.5l.94-2.06 2.06-.94-2.06-.94L8.5 2.5l-.94 2.06-2.06.94zm10 10l.94 2.06.94-2.06 2.06-.94-2.06-.94-.94-2.06-.94 2.06-2.06.94z\"/><path d=\"M17.41 7.96l-1.37-1.37c-.4-.4-.92-.59-1.43-.59-.52 0-1.04.2-1.43.59L10.3 9.45l-7.72 7.72c-.78.78-.78 2.05 0 2.83L4 21.41c.39.39.9.59 1.41.59.51 0 1.02-.2 1.41-.59l7.78-7.78 2.81-2.81c.8-.78.8-2.07 0-2.86zM5.41 20L4 18.59l7.72-7.72 1.47 1.35L5.41 20z\"/>\n",
              "  </svg>\n",
              "      </button>\n",
              "      \n",
              "  <style>\n",
              "    .colab-df-container {\n",
              "      display:flex;\n",
              "      flex-wrap:wrap;\n",
              "      gap: 12px;\n",
              "    }\n",
              "\n",
              "    .colab-df-convert {\n",
              "      background-color: #E8F0FE;\n",
              "      border: none;\n",
              "      border-radius: 50%;\n",
              "      cursor: pointer;\n",
              "      display: none;\n",
              "      fill: #1967D2;\n",
              "      height: 32px;\n",
              "      padding: 0 0 0 0;\n",
              "      width: 32px;\n",
              "    }\n",
              "\n",
              "    .colab-df-convert:hover {\n",
              "      background-color: #E2EBFA;\n",
              "      box-shadow: 0px 1px 2px rgba(60, 64, 67, 0.3), 0px 1px 3px 1px rgba(60, 64, 67, 0.15);\n",
              "      fill: #174EA6;\n",
              "    }\n",
              "\n",
              "    [theme=dark] .colab-df-convert {\n",
              "      background-color: #3B4455;\n",
              "      fill: #D2E3FC;\n",
              "    }\n",
              "\n",
              "    [theme=dark] .colab-df-convert:hover {\n",
              "      background-color: #434B5C;\n",
              "      box-shadow: 0px 1px 3px 1px rgba(0, 0, 0, 0.15);\n",
              "      filter: drop-shadow(0px 1px 2px rgba(0, 0, 0, 0.3));\n",
              "      fill: #FFFFFF;\n",
              "    }\n",
              "  </style>\n",
              "\n",
              "      <script>\n",
              "        const buttonEl =\n",
              "          document.querySelector('#df-7ab1529f-830c-49ad-8ad1-e7f4dde9bb75 button.colab-df-convert');\n",
              "        buttonEl.style.display =\n",
              "          google.colab.kernel.accessAllowed ? 'block' : 'none';\n",
              "\n",
              "        async function convertToInteractive(key) {\n",
              "          const element = document.querySelector('#df-7ab1529f-830c-49ad-8ad1-e7f4dde9bb75');\n",
              "          const dataTable =\n",
              "            await google.colab.kernel.invokeFunction('convertToInteractive',\n",
              "                                                     [key], {});\n",
              "          if (!dataTable) return;\n",
              "\n",
              "          const docLinkHtml = 'Like what you see? Visit the ' +\n",
              "            '<a target=\"_blank\" href=https://colab.research.google.com/notebooks/data_table.ipynb>data table notebook</a>'\n",
              "            + ' to learn more about interactive tables.';\n",
              "          element.innerHTML = '';\n",
              "          dataTable['output_type'] = 'display_data';\n",
              "          await google.colab.output.renderOutput(dataTable, element);\n",
              "          const docLink = document.createElement('div');\n",
              "          docLink.innerHTML = docLinkHtml;\n",
              "          element.appendChild(docLink);\n",
              "        }\n",
              "      </script>\n",
              "    </div>\n",
              "  </div>\n",
              "  "
            ]
          },
          "metadata": {},
          "execution_count": 55
        }
      ],
      "source": [
        "data = pd.read_csv('wineQualityReds.csv', index_col = 0)\n",
        "data.head()"
      ]
    },
    {
      "cell_type": "markdown",
      "id": "german-artwork",
      "metadata": {
        "id": "german-artwork"
      },
      "source": [
        "Как указано в описании набора, в нём нет пропущенных значений, и все переменные являются непрерывными. Целевая переменная – `quality`. "
      ]
    },
    {
      "cell_type": "markdown",
      "id": "crazy-moses",
      "metadata": {
        "id": "crazy-moses"
      },
      "source": [
        "**Задание 1.** Перейдём к задаче бинарной классификации и будем предсказывать только наиболее популярную категорию качества. Закодируйте столбец `quality` так, чтобы наиболее частая категория (это категория 5) получила метку 1, а все прочие категории – метку -1."
      ]
    },
    {
      "cell_type": "code",
      "execution_count": null,
      "id": "prepared-laser",
      "metadata": {
        "id": "prepared-laser",
        "colab": {
          "base_uri": "https://localhost:8080/",
          "height": 424
        },
        "outputId": "15ac0e8e-0e91-421e-dfaf-84e4dc9bfd3b"
      },
      "outputs": [
        {
          "output_type": "execute_result",
          "data": {
            "text/plain": [
              "      fixed.acidity  volatile.acidity  citric.acid  residual.sugar  chlorides  \\\n",
              "1               7.4             0.700         0.00             1.9      0.076   \n",
              "2               7.8             0.880         0.00             2.6      0.098   \n",
              "3               7.8             0.760         0.04             2.3      0.092   \n",
              "4              11.2             0.280         0.56             1.9      0.075   \n",
              "5               7.4             0.700         0.00             1.9      0.076   \n",
              "...             ...               ...          ...             ...        ...   \n",
              "1595            6.2             0.600         0.08             2.0      0.090   \n",
              "1596            5.9             0.550         0.10             2.2      0.062   \n",
              "1597            6.3             0.510         0.13             2.3      0.076   \n",
              "1598            5.9             0.645         0.12             2.0      0.075   \n",
              "1599            6.0             0.310         0.47             3.6      0.067   \n",
              "\n",
              "      free.sulfur.dioxide  total.sulfur.dioxide  density    pH  sulphates  \\\n",
              "1                    11.0                  34.0  0.99780  3.51       0.56   \n",
              "2                    25.0                  67.0  0.99680  3.20       0.68   \n",
              "3                    15.0                  54.0  0.99700  3.26       0.65   \n",
              "4                    17.0                  60.0  0.99800  3.16       0.58   \n",
              "5                    11.0                  34.0  0.99780  3.51       0.56   \n",
              "...                   ...                   ...      ...   ...        ...   \n",
              "1595                 32.0                  44.0  0.99490  3.45       0.58   \n",
              "1596                 39.0                  51.0  0.99512  3.52       0.76   \n",
              "1597                 29.0                  40.0  0.99574  3.42       0.75   \n",
              "1598                 32.0                  44.0  0.99547  3.57       0.71   \n",
              "1599                 18.0                  42.0  0.99549  3.39       0.66   \n",
              "\n",
              "      alcohol  quality  \n",
              "1         9.4        1  \n",
              "2         9.8        1  \n",
              "3         9.8        1  \n",
              "4         9.8       -1  \n",
              "5         9.4        1  \n",
              "...       ...      ...  \n",
              "1595     10.5        1  \n",
              "1596     11.2       -1  \n",
              "1597     11.0       -1  \n",
              "1598     10.2        1  \n",
              "1599     11.0       -1  \n",
              "\n",
              "[1599 rows x 12 columns]"
            ],
            "text/html": [
              "\n",
              "  <div id=\"df-9770b4fc-c82c-4edf-a764-372a9e1ac727\">\n",
              "    <div class=\"colab-df-container\">\n",
              "      <div>\n",
              "<style scoped>\n",
              "    .dataframe tbody tr th:only-of-type {\n",
              "        vertical-align: middle;\n",
              "    }\n",
              "\n",
              "    .dataframe tbody tr th {\n",
              "        vertical-align: top;\n",
              "    }\n",
              "\n",
              "    .dataframe thead th {\n",
              "        text-align: right;\n",
              "    }\n",
              "</style>\n",
              "<table border=\"1\" class=\"dataframe\">\n",
              "  <thead>\n",
              "    <tr style=\"text-align: right;\">\n",
              "      <th></th>\n",
              "      <th>fixed.acidity</th>\n",
              "      <th>volatile.acidity</th>\n",
              "      <th>citric.acid</th>\n",
              "      <th>residual.sugar</th>\n",
              "      <th>chlorides</th>\n",
              "      <th>free.sulfur.dioxide</th>\n",
              "      <th>total.sulfur.dioxide</th>\n",
              "      <th>density</th>\n",
              "      <th>pH</th>\n",
              "      <th>sulphates</th>\n",
              "      <th>alcohol</th>\n",
              "      <th>quality</th>\n",
              "    </tr>\n",
              "  </thead>\n",
              "  <tbody>\n",
              "    <tr>\n",
              "      <th>1</th>\n",
              "      <td>7.4</td>\n",
              "      <td>0.700</td>\n",
              "      <td>0.00</td>\n",
              "      <td>1.9</td>\n",
              "      <td>0.076</td>\n",
              "      <td>11.0</td>\n",
              "      <td>34.0</td>\n",
              "      <td>0.99780</td>\n",
              "      <td>3.51</td>\n",
              "      <td>0.56</td>\n",
              "      <td>9.4</td>\n",
              "      <td>1</td>\n",
              "    </tr>\n",
              "    <tr>\n",
              "      <th>2</th>\n",
              "      <td>7.8</td>\n",
              "      <td>0.880</td>\n",
              "      <td>0.00</td>\n",
              "      <td>2.6</td>\n",
              "      <td>0.098</td>\n",
              "      <td>25.0</td>\n",
              "      <td>67.0</td>\n",
              "      <td>0.99680</td>\n",
              "      <td>3.20</td>\n",
              "      <td>0.68</td>\n",
              "      <td>9.8</td>\n",
              "      <td>1</td>\n",
              "    </tr>\n",
              "    <tr>\n",
              "      <th>3</th>\n",
              "      <td>7.8</td>\n",
              "      <td>0.760</td>\n",
              "      <td>0.04</td>\n",
              "      <td>2.3</td>\n",
              "      <td>0.092</td>\n",
              "      <td>15.0</td>\n",
              "      <td>54.0</td>\n",
              "      <td>0.99700</td>\n",
              "      <td>3.26</td>\n",
              "      <td>0.65</td>\n",
              "      <td>9.8</td>\n",
              "      <td>1</td>\n",
              "    </tr>\n",
              "    <tr>\n",
              "      <th>4</th>\n",
              "      <td>11.2</td>\n",
              "      <td>0.280</td>\n",
              "      <td>0.56</td>\n",
              "      <td>1.9</td>\n",
              "      <td>0.075</td>\n",
              "      <td>17.0</td>\n",
              "      <td>60.0</td>\n",
              "      <td>0.99800</td>\n",
              "      <td>3.16</td>\n",
              "      <td>0.58</td>\n",
              "      <td>9.8</td>\n",
              "      <td>-1</td>\n",
              "    </tr>\n",
              "    <tr>\n",
              "      <th>5</th>\n",
              "      <td>7.4</td>\n",
              "      <td>0.700</td>\n",
              "      <td>0.00</td>\n",
              "      <td>1.9</td>\n",
              "      <td>0.076</td>\n",
              "      <td>11.0</td>\n",
              "      <td>34.0</td>\n",
              "      <td>0.99780</td>\n",
              "      <td>3.51</td>\n",
              "      <td>0.56</td>\n",
              "      <td>9.4</td>\n",
              "      <td>1</td>\n",
              "    </tr>\n",
              "    <tr>\n",
              "      <th>...</th>\n",
              "      <td>...</td>\n",
              "      <td>...</td>\n",
              "      <td>...</td>\n",
              "      <td>...</td>\n",
              "      <td>...</td>\n",
              "      <td>...</td>\n",
              "      <td>...</td>\n",
              "      <td>...</td>\n",
              "      <td>...</td>\n",
              "      <td>...</td>\n",
              "      <td>...</td>\n",
              "      <td>...</td>\n",
              "    </tr>\n",
              "    <tr>\n",
              "      <th>1595</th>\n",
              "      <td>6.2</td>\n",
              "      <td>0.600</td>\n",
              "      <td>0.08</td>\n",
              "      <td>2.0</td>\n",
              "      <td>0.090</td>\n",
              "      <td>32.0</td>\n",
              "      <td>44.0</td>\n",
              "      <td>0.99490</td>\n",
              "      <td>3.45</td>\n",
              "      <td>0.58</td>\n",
              "      <td>10.5</td>\n",
              "      <td>1</td>\n",
              "    </tr>\n",
              "    <tr>\n",
              "      <th>1596</th>\n",
              "      <td>5.9</td>\n",
              "      <td>0.550</td>\n",
              "      <td>0.10</td>\n",
              "      <td>2.2</td>\n",
              "      <td>0.062</td>\n",
              "      <td>39.0</td>\n",
              "      <td>51.0</td>\n",
              "      <td>0.99512</td>\n",
              "      <td>3.52</td>\n",
              "      <td>0.76</td>\n",
              "      <td>11.2</td>\n",
              "      <td>-1</td>\n",
              "    </tr>\n",
              "    <tr>\n",
              "      <th>1597</th>\n",
              "      <td>6.3</td>\n",
              "      <td>0.510</td>\n",
              "      <td>0.13</td>\n",
              "      <td>2.3</td>\n",
              "      <td>0.076</td>\n",
              "      <td>29.0</td>\n",
              "      <td>40.0</td>\n",
              "      <td>0.99574</td>\n",
              "      <td>3.42</td>\n",
              "      <td>0.75</td>\n",
              "      <td>11.0</td>\n",
              "      <td>-1</td>\n",
              "    </tr>\n",
              "    <tr>\n",
              "      <th>1598</th>\n",
              "      <td>5.9</td>\n",
              "      <td>0.645</td>\n",
              "      <td>0.12</td>\n",
              "      <td>2.0</td>\n",
              "      <td>0.075</td>\n",
              "      <td>32.0</td>\n",
              "      <td>44.0</td>\n",
              "      <td>0.99547</td>\n",
              "      <td>3.57</td>\n",
              "      <td>0.71</td>\n",
              "      <td>10.2</td>\n",
              "      <td>1</td>\n",
              "    </tr>\n",
              "    <tr>\n",
              "      <th>1599</th>\n",
              "      <td>6.0</td>\n",
              "      <td>0.310</td>\n",
              "      <td>0.47</td>\n",
              "      <td>3.6</td>\n",
              "      <td>0.067</td>\n",
              "      <td>18.0</td>\n",
              "      <td>42.0</td>\n",
              "      <td>0.99549</td>\n",
              "      <td>3.39</td>\n",
              "      <td>0.66</td>\n",
              "      <td>11.0</td>\n",
              "      <td>-1</td>\n",
              "    </tr>\n",
              "  </tbody>\n",
              "</table>\n",
              "<p>1599 rows × 12 columns</p>\n",
              "</div>\n",
              "      <button class=\"colab-df-convert\" onclick=\"convertToInteractive('df-9770b4fc-c82c-4edf-a764-372a9e1ac727')\"\n",
              "              title=\"Convert this dataframe to an interactive table.\"\n",
              "              style=\"display:none;\">\n",
              "        \n",
              "  <svg xmlns=\"http://www.w3.org/2000/svg\" height=\"24px\"viewBox=\"0 0 24 24\"\n",
              "       width=\"24px\">\n",
              "    <path d=\"M0 0h24v24H0V0z\" fill=\"none\"/>\n",
              "    <path d=\"M18.56 5.44l.94 2.06.94-2.06 2.06-.94-2.06-.94-.94-2.06-.94 2.06-2.06.94zm-11 1L8.5 8.5l.94-2.06 2.06-.94-2.06-.94L8.5 2.5l-.94 2.06-2.06.94zm10 10l.94 2.06.94-2.06 2.06-.94-2.06-.94-.94-2.06-.94 2.06-2.06.94z\"/><path d=\"M17.41 7.96l-1.37-1.37c-.4-.4-.92-.59-1.43-.59-.52 0-1.04.2-1.43.59L10.3 9.45l-7.72 7.72c-.78.78-.78 2.05 0 2.83L4 21.41c.39.39.9.59 1.41.59.51 0 1.02-.2 1.41-.59l7.78-7.78 2.81-2.81c.8-.78.8-2.07 0-2.86zM5.41 20L4 18.59l7.72-7.72 1.47 1.35L5.41 20z\"/>\n",
              "  </svg>\n",
              "      </button>\n",
              "      \n",
              "  <style>\n",
              "    .colab-df-container {\n",
              "      display:flex;\n",
              "      flex-wrap:wrap;\n",
              "      gap: 12px;\n",
              "    }\n",
              "\n",
              "    .colab-df-convert {\n",
              "      background-color: #E8F0FE;\n",
              "      border: none;\n",
              "      border-radius: 50%;\n",
              "      cursor: pointer;\n",
              "      display: none;\n",
              "      fill: #1967D2;\n",
              "      height: 32px;\n",
              "      padding: 0 0 0 0;\n",
              "      width: 32px;\n",
              "    }\n",
              "\n",
              "    .colab-df-convert:hover {\n",
              "      background-color: #E2EBFA;\n",
              "      box-shadow: 0px 1px 2px rgba(60, 64, 67, 0.3), 0px 1px 3px 1px rgba(60, 64, 67, 0.15);\n",
              "      fill: #174EA6;\n",
              "    }\n",
              "\n",
              "    [theme=dark] .colab-df-convert {\n",
              "      background-color: #3B4455;\n",
              "      fill: #D2E3FC;\n",
              "    }\n",
              "\n",
              "    [theme=dark] .colab-df-convert:hover {\n",
              "      background-color: #434B5C;\n",
              "      box-shadow: 0px 1px 3px 1px rgba(0, 0, 0, 0.15);\n",
              "      filter: drop-shadow(0px 1px 2px rgba(0, 0, 0, 0.3));\n",
              "      fill: #FFFFFF;\n",
              "    }\n",
              "  </style>\n",
              "\n",
              "      <script>\n",
              "        const buttonEl =\n",
              "          document.querySelector('#df-9770b4fc-c82c-4edf-a764-372a9e1ac727 button.colab-df-convert');\n",
              "        buttonEl.style.display =\n",
              "          google.colab.kernel.accessAllowed ? 'block' : 'none';\n",
              "\n",
              "        async function convertToInteractive(key) {\n",
              "          const element = document.querySelector('#df-9770b4fc-c82c-4edf-a764-372a9e1ac727');\n",
              "          const dataTable =\n",
              "            await google.colab.kernel.invokeFunction('convertToInteractive',\n",
              "                                                     [key], {});\n",
              "          if (!dataTable) return;\n",
              "\n",
              "          const docLinkHtml = 'Like what you see? Visit the ' +\n",
              "            '<a target=\"_blank\" href=https://colab.research.google.com/notebooks/data_table.ipynb>data table notebook</a>'\n",
              "            + ' to learn more about interactive tables.';\n",
              "          element.innerHTML = '';\n",
              "          dataTable['output_type'] = 'display_data';\n",
              "          await google.colab.output.renderOutput(dataTable, element);\n",
              "          const docLink = document.createElement('div');\n",
              "          docLink.innerHTML = docLinkHtml;\n",
              "          element.appendChild(docLink);\n",
              "        }\n",
              "      </script>\n",
              "    </div>\n",
              "  </div>\n",
              "  "
            ]
          },
          "metadata": {},
          "execution_count": 59
        }
      ],
      "source": [
        "data.loc[data[\"quality\"] != 5, \"quality\"] = -1\n",
        "data.loc[data[\"quality\"] == 5, \"quality\"] = 1\n",
        "data"
      ]
    },
    {
      "cell_type": "markdown",
      "id": "steady-ecology",
      "metadata": {
        "id": "steady-ecology"
      },
      "source": [
        "**Задание 2.** Разделите признаки и целевую переменную. Разделите выборку на тренировочную и тестовую, долю тестовой выборки укажите равной 0.3. При помощи `StandardScaler` отмасштабируйте тренировочную и тестовую выборки. "
      ]
    },
    {
      "cell_type": "code",
      "execution_count": null,
      "id": "beneficial-perry",
      "metadata": {
        "id": "beneficial-perry"
      },
      "outputs": [],
      "source": [
        "from sklearn.model_selection import train_test_split\n",
        "from sklearn.preprocessing import StandardScaler"
      ]
    },
    {
      "cell_type": "code",
      "execution_count": null,
      "id": "grateful-thesis",
      "metadata": {
        "id": "grateful-thesis"
      },
      "outputs": [],
      "source": [
        "X_train, X_test, y_train, y_test = train_test_split(X, y, test_size=0.3)\n",
        "\n",
        "# Отмасштабируйте признаки\n",
        "ss = StandardScaler()\n",
        "X_train = ss.fit_transform(X_train)\n",
        "X_test = ss.transform(X_test)"
      ]
    },
    {
      "cell_type": "markdown",
      "id": "quick-replica",
      "metadata": {
        "id": "quick-replica"
      },
      "source": [
        "**Задание 3.** При помощи кросс-валидации (параметры выберите сами) подберите оптимальные значения коэффициентов регуляризации для логистической регрессии и SVM с линейным ядром. Обучите модели с этими параметрами. Убедитесь, что доля правильных ответов – не лучший вариант для нашей задачи и рассчитайте F-меру на тестовой выборке. Какой алгоритм показал себя лучше? \n",
        "\n",
        " **Бонус для самых отважных:** качество работы SVM можно улучшить за счёт применения ядер, после чего разделяющая поверхность становится нелинейной. Если вам интересно, попросите семинариста рассказать об этом подробнее.  "
      ]
    },
    {
      "cell_type": "code",
      "execution_count": null,
      "id": "destroyed-cooling",
      "metadata": {
        "id": "destroyed-cooling"
      },
      "outputs": [],
      "source": [
        "from sklearn.model_selection import cross_validate\n",
        "\n",
        "scores_lr = []\n",
        "scores_svm = []\n",
        "\n",
        "for c in np.arange(0.1, 10, 1):\n",
        "    lr = LogisticRegression(C = c)\n",
        "    svm = SVC(C = c)\n",
        "    pass"
      ]
    },
    {
      "cell_type": "markdown",
      "id": "c0d90ec9",
      "metadata": {
        "id": "c0d90ec9"
      },
      "source": [
        "## Метрики классификации "
      ]
    },
    {
      "cell_type": "markdown",
      "source": [
        "<img src=\"https://image.jimcdn.com/app/cms/image/transf/dimension=1920x10000:format=png/path/s8ff3310143614e07/image/iab2d53abc26a2bc7/version/1549760945/image.png\" width=120%>"
      ],
      "metadata": {
        "id": "mQBBbJ50EQeN"
      },
      "id": "mQBBbJ50EQeN"
    },
    {
      "cell_type": "markdown",
      "source": [
        "**Accuracy score** - доля правильно классифицированных объектов.\n",
        "\n",
        "**Recall** (или **Sensitivity**) - доля объектов положительного класса из всех объектов положительного класса, которую наша модель правильно детектирует.\n",
        "\n",
        "**Precision** - доля объектов, которые модель классифицирует как положительные и при этом действительно являющихся положительными.\n",
        "\n",
        "**F1 score** - гармоническое среднее между **Precision** и **Recall** \n",
        "\n",
        "$$F_{1} score = 2\\frac{Precision \\cdot Recall}{Precision + Recall}$$\n",
        "\n",
        "**$F_{\\beta}$ score** - обобщение F1 score: исполользуем в случаях, когда важнее выдерживать либо точность, либо полноту\n",
        "\n",
        "$$F_{\\beta} score = (1 + \\beta^2)\\frac{Precision \\cdot Recall}{\\beta^2 Precision + Recall}$$"
      ],
      "metadata": {
        "id": "eRoxZFskES_f"
      },
      "id": "eRoxZFskES_f"
    },
    {
      "cell_type": "code",
      "execution_count": null,
      "id": "e4f13f7e",
      "metadata": {
        "id": "e4f13f7e"
      },
      "outputs": [],
      "source": [
        "n = 500\n",
        "# True labels\n",
        "y = np.random.randint(0, 2, 500)\n",
        "# Predicted labels\n",
        "p = (np.random.random(500)>0.5).astype(int)"
      ]
    },
    {
      "cell_type": "code",
      "execution_count": null,
      "id": "58363cb2",
      "metadata": {
        "id": "58363cb2"
      },
      "outputs": [],
      "source": [
        "def accuracy(y, p):\n",
        "    return sum(y==p)/len(y)\n",
        "\n",
        "def precision(y, p):\n",
        "    (TN, FP), (FN, TP) = confusion_matrix(y, p)\n",
        "    \n",
        "    return TP/(TP+FN)\n",
        "    \n",
        "def recall(y, p):\n",
        "    (TN, FP), (FN, TP) = confusion_matrix(y, p)\n",
        "    \n",
        "    return TP/(TP+FP)\n",
        "    \n",
        "def f1(y, p, beta=1):\n",
        "    re = recall(y, p)\n",
        "    pr = precision(y, p)\n",
        "    \n",
        "    return (1+beta**2)*pr*re/(beta**2*pr+re) "
      ]
    },
    {
      "cell_type": "code",
      "execution_count": null,
      "id": "c8f45ec2",
      "metadata": {
        "id": "c8f45ec2",
        "outputId": "ac3c5438-ff15-47f8-f641-d012584222b5",
        "colab": {
          "base_uri": "https://localhost:8080/"
        }
      },
      "outputs": [
        {
          "output_type": "stream",
          "name": "stdout",
          "text": [
            "acc 0.504\n",
            "pr 0.5298507462686567\n",
            "re 0.5378787878787878\n",
            "f1 0.5338345864661654\n"
          ]
        }
      ],
      "source": [
        "metric_dict = {'acc':accuracy, 'pr':precision, 're':recall, 'f1':f1}\n",
        "for title, func in metric_dict.items():\n",
        "    print(title, func(y, p))"
      ]
    },
    {
      "cell_type": "code",
      "execution_count": null,
      "id": "c257b86e",
      "metadata": {
        "id": "c257b86e",
        "outputId": "79f9bbe6-ec4c-45ab-f354-dafd39f4b82a",
        "colab": {
          "base_uri": "https://localhost:8080/"
        }
      },
      "outputs": [
        {
          "output_type": "stream",
          "name": "stdout",
          "text": [
            "              precision    recall  f1-score   support\n",
            "\n",
            "           0       0.47      0.47      0.47       232\n",
            "           1       0.54      0.53      0.53       268\n",
            "\n",
            "    accuracy                           0.50       500\n",
            "   macro avg       0.50      0.50      0.50       500\n",
            "weighted avg       0.50      0.50      0.50       500\n",
            "\n"
          ]
        }
      ],
      "source": [
        "print(classification_report(y, p))"
      ]
    },
    {
      "cell_type": "markdown",
      "id": "neutral-notebook",
      "metadata": {
        "id": "neutral-notebook"
      },
      "source": [
        "### ROC-кривая"
      ]
    },
    {
      "cell_type": "markdown",
      "id": "marine-parish",
      "metadata": {
        "id": "marine-parish"
      },
      "source": [
        "\n",
        "\n",
        "Определим следующие величины:\n",
        "\n",
        "$$\n",
        "TPR \\text{ (true positive rate, recall, sensitivity)} = \\dfrac{TP}{TP + FN}\n",
        "$$\n",
        "– доля правильно предсказанных объектов положительного класса.\n",
        "\n",
        "$$\n",
        "FPR \\text{ (false positive rate, 1 - specificity)} = \\dfrac{FP}{FP + TN}\n",
        "$$\n",
        "– доля неправильно предсказанных объектов отрицательного класса.\n",
        "\n",
        "Рассмотрим задачу мягкой классификации: мы предказываем вероятности принадлежности наблюдения к положительному и отрицательному классам. Тогда TPR и FPR будут зависеть от порога для вероятности, выше которого наблюдение будет отнесено к положительному классу. ROC-кривая строится в координатах $(FPR, TPR)$ и показывает комбинации TPR и FPR при всевозможных значениях порога. \n",
        "\n",
        "Для хорошего классификатора эта кривая является вогнутой, а для идеального классификатора она будет проходить через точку $(0, 1)$ (почему?).\n",
        "\n",
        "[<img src=\"https://upload.wikimedia.org/wikipedia/commons/6/6b/Roccurves.png\" alt=\"drawing\" width=\"350\"/>](https://ru.wikipedia.org/wiki/ROC-кривая)\n",
        "\n",
        "\n",
        "\n",
        "**Задание 1.** Постройте ROC-кривую для следующей выборки."
      ]
    },
    {
      "cell_type": "code",
      "execution_count": null,
      "id": "convertible-leader",
      "metadata": {
        "id": "convertible-leader"
      },
      "outputs": [],
      "source": [
        "# True labels\n",
        "y = [-1, 1, 1, -1, 1, 1]\n",
        "# Predicted labels\n",
        "p = [0.5, 0.1, 0.2, 0.9, 0.7, 0.1]"
      ]
    },
    {
      "cell_type": "markdown",
      "id": "worst-machinery",
      "metadata": {
        "id": "worst-machinery"
      },
      "source": [
        "**Решение:**\n",
        "1. Упорядочим наблюдения по **убыванию** ответов алгоритма."
      ]
    },
    {
      "cell_type": "code",
      "execution_count": null,
      "id": "desirable-bleeding",
      "metadata": {
        "id": "desirable-bleeding"
      },
      "outputs": [],
      "source": [
        "y = [-1, 1, -1, 1, 1, 1]\n",
        "p = [0.9, 0.7, 0.5, 0.2, 0.1, 0.1]"
      ]
    },
    {
      "cell_type": "markdown",
      "id": "virtual-crack",
      "metadata": {
        "id": "virtual-crack"
      },
      "source": [
        "2. Разобьём единичный квадрат на $(m, n)$ частей, где $m$ – число 1 в $y$, $n$ – число нулей. Стартуем из точки $(0, 0)$. Если значение $y$ равно 1, делаем шаг вверх, а если -1 – вправо. Понятно, что конечная точка нашего маршрута – точка $(1, 1)$.\n",
        "\n",
        "**Важный момент:** если у нескольких объектов значения предсказаний равны, а $y$ – различны, то мы должны сделать ход \"по диагонали\". \n",
        "\n",
        "Если построить кривую по этому алгоритму, то получим:"
      ]
    },
    {
      "cell_type": "code",
      "execution_count": null,
      "id": "substantial-louis",
      "metadata": {
        "id": "substantial-louis",
        "outputId": "db6244d6-3bcd-4919-fc92-9a0d29a10de3",
        "colab": {
          "base_uri": "https://localhost:8080/",
          "height": 718
        }
      },
      "outputs": [
        {
          "output_type": "execute_result",
          "data": {
            "text/plain": [
              "<matplotlib.legend.Legend at 0x7ff9bb150be0>"
            ]
          },
          "metadata": {},
          "execution_count": 68
        },
        {
          "output_type": "display_data",
          "data": {
            "text/plain": [
              "<Figure size 800x800 with 1 Axes>"
            ],
            "image/png": "[encoded data removed]"
          },
          "metadata": {}
        }
      ],
      "source": [
        "from sklearn.metrics import roc_curve, auc\n",
        "\n",
        "fpr, tpr, _ = roc_curve(y, p)\n",
        "\n",
        "plt.figure(figsize = (8, 8))\n",
        "plt.plot(fpr, tpr, label = 'ROC')\n",
        "plt.axvline(0.5, linestyle = 'dotted', c = 'red')\n",
        "plt.axhline(0.25, linestyle = 'dotted', c = 'red')\n",
        "plt.axhline(0.5, linestyle = 'dotted', c = 'red')\n",
        "plt.axhline(0.75, linestyle = 'dotted', c = 'red')\n",
        "plt.axhline(1.0, linestyle = 'dotted', c = 'red')\n",
        "plt.title('Красные линии показывают разбиение единичного квадрата на m и n частей')\n",
        "plt.legend()"
      ]
    },
    {
      "cell_type": "markdown",
      "id": "manufactured-lyric",
      "metadata": {
        "id": "manufactured-lyric"
      },
      "source": [
        "3. Полученная кривая и является ROC-кривой. \n",
        "\n",
        "**(Почему этот алгоритм имеет смысл?)**"
      ]
    },
    {
      "cell_type": "markdown",
      "id": "arctic-scott",
      "metadata": {
        "id": "arctic-scott"
      },
      "source": [
        "**Пример с диагональным шагом.**"
      ]
    },
    {
      "cell_type": "code",
      "execution_count": null,
      "id": "wireless-worship",
      "metadata": {
        "id": "wireless-worship"
      },
      "outputs": [],
      "source": [
        "p = [0.5, 0.1, 0.2, 0.6, 0.2, 0.3, 0.0]\n",
        "y = [-1,  -1,   -1, 1,    1,   1,   -1]"
      ]
    },
    {
      "cell_type": "code",
      "execution_count": null,
      "id": "bizarre-farming",
      "metadata": {
        "id": "bizarre-farming"
      },
      "outputs": [],
      "source": [
        "fpr, tpr, _ = roc_curve(y, p)"
      ]
    },
    {
      "cell_type": "code",
      "execution_count": null,
      "id": "likely-facial",
      "metadata": {
        "id": "likely-facial",
        "outputId": "2828e40e-81b2-47bc-e985-99d3ecf50bc8",
        "colab": {
          "base_uri": "https://localhost:8080/",
          "height": 718
        }
      },
      "outputs": [
        {
          "output_type": "execute_result",
          "data": {
            "text/plain": [
              "<matplotlib.legend.Legend at 0x7ff9bad0b2b0>"
            ]
          },
          "metadata": {},
          "execution_count": 71
        },
        {
          "output_type": "display_data",
          "data": {
            "text/plain": [
              "<Figure size 800x800 with 1 Axes>"
            ],
            "image/png": "[encoded data removed]"
          },
          "metadata": {}
        }
      ],
      "source": [
        "plt.figure(figsize = (8, 8))\n",
        "plt.plot(fpr, tpr, label = 'ROC')\n",
        "plt.axvline(0.25, linestyle = 'dotted', c = 'red')\n",
        "plt.axvline(0.5, linestyle = 'dotted', c = 'red')\n",
        "plt.axvline(0.75, linestyle = 'dotted', c = 'red')\n",
        "plt.axvline(1.0, linestyle = 'dotted', c = 'red')\n",
        "plt.axhline(0.33, linestyle = 'dotted', c = 'red')\n",
        "plt.axhline(0.66, linestyle = 'dotted', c = 'red')\n",
        "plt.axhline(1.0, linestyle = 'dotted', c = 'red')\n",
        "plt.title('Красные линии показывают разбиение единичного квадрата на m и n частей')\n",
        "plt.legend()"
      ]
    },
    {
      "cell_type": "markdown",
      "id": "present-hurricane",
      "metadata": {
        "id": "present-hurricane"
      },
      "source": [
        "**Задание 2.** ROC AUC – площадь под ROC-кривой – равна доле пар наблюдений $(y = 1, y = -1)$, которые алгоритм верно упорядочил. Таким образом, чем больше ROC AUC, тем качественнее отработал классификатор. Вычислите ROC AUC для построенной ROC-кривой из первого примера. "
      ]
    },
    {
      "cell_type": "markdown",
      "id": "prescription-indiana",
      "metadata": {
        "id": "prescription-indiana"
      },
      "source": [
        "**Решение:**"
      ]
    },
    {
      "cell_type": "code",
      "execution_count": null,
      "id": "complicated-istanbul",
      "metadata": {
        "id": "complicated-istanbul",
        "outputId": "af0ceeca-afc9-4c2c-d7b8-2bf826131b4a",
        "colab": {
          "base_uri": "https://localhost:8080/"
        }
      },
      "outputs": [
        {
          "output_type": "execute_result",
          "data": {
            "text/plain": [
              "0.125"
            ]
          },
          "metadata": {},
          "execution_count": 72
        }
      ],
      "source": [
        "0.25 * 0.5"
      ]
    },
    {
      "cell_type": "markdown",
      "id": "colored-hebrew",
      "metadata": {
        "id": "colored-hebrew"
      },
      "source": [
        "**Задание 3.** Как выглядит ROC-кривая для случайного классификатора? \n",
        "\n",
        "\n",
        "**Задание 4.** Как по ROC-кривой выбрать порог для бинаризации?"
      ]
    },
    {
      "cell_type": "markdown",
      "id": "expensive-spyware",
      "metadata": {
        "id": "expensive-spyware"
      },
      "source": [
        "В `sklearn` реализовано вычисление значений ROC-кривой и площади под ней. "
      ]
    },
    {
      "cell_type": "code",
      "execution_count": null,
      "id": "corresponding-target",
      "metadata": {
        "id": "corresponding-target"
      },
      "outputs": [],
      "source": [
        "from sklearn.metrics import roc_curve, auc"
      ]
    },
    {
      "cell_type": "markdown",
      "id": "premier-merchandise",
      "metadata": {
        "id": "premier-merchandise"
      },
      "source": [
        "**Важно:** в `roc_curve` передаются предсказанные вероятности!"
      ]
    },
    {
      "cell_type": "markdown",
      "id": "narrow-martial",
      "metadata": {
        "id": "narrow-martial"
      },
      "source": [
        "### Бонус для самых смелых: вывод логистической регрессии через правдоподобие\n",
        "\n",
        "Перекодируем $y$ так, что её возможные значения – это 0 и 1. Теперь $y$ является случайной величиной из распределения Бернулли. Тогда сигмоида задаёт условную вероятность принадлежности $y$ к положительному классу:\n",
        "\n",
        "$$\n",
        "P(y_i = 1 | x_i, w) = \\sigma(x_i, w).\n",
        "$$\n",
        "\n",
        "Будем искать оценку коэффициентов $w$ при помощи метода максимального правдоподобия.\n",
        "\n",
        "$$\n",
        "\\mathcal{L} = \\sigma(x_i, w)^{\\sum_i y_i}(1 - \\sigma(x_i, w))^{\\sum_i 1 - y_i}\n",
        "$$\n",
        "\n",
        "Логарифмируем:\n",
        "\n",
        "$$\n",
        "\\mathcal{l} = \\sum_i y_i \\log\\sigma(x_i, w) + (1 - y_i)(1 - \\log\\sigma(x_i, w))\n",
        "$$\n",
        "\n",
        "Если теперь взять среднее, то мы получим log-loss, взятый со знаком минус. Таким образом, минимизация функции потерь в логистической регрессии эквивалентна  максимизации правдоподобия в задаче нахождения оценок $w$!"
      ]
    }
  ],
  "metadata": {
    "kernelspec": {
      "display_name": "Python 3 (ipykernel)",
      "language": "python",
      "name": "python3"
    },
    "language_info": {
      "codemirror_mode": {
        "name": "ipython",
        "version": 3
      },
      "file_extension": ".py",
      "mimetype": "text/x-python",
      "name": "python",
      "nbconvert_exporter": "python",
      "pygments_lexer": "ipython3",
      "version": "3.10.10"
    },
    "colab": {
      "provenance": []
    }
  },
  "nbformat": 4,
  "nbformat_minor": 5
}